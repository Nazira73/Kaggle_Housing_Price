{
 "cells": [
  {
   "cell_type": "code",
   "execution_count": 1,
   "metadata": {},
   "outputs": [],
   "source": [
    "# Importing the essential modules/packages\n",
    "\n",
    "import numpy as np\n",
    "import pandas as pd\n",
    "import os"
   ]
  },
  {
   "cell_type": "code",
   "execution_count": 2,
   "metadata": {},
   "outputs": [],
   "source": [
    "os.chdir(r\"D:\\CBAP\\Python\\Project\\Kaggle\\House_prices\")"
   ]
  },
  {
   "cell_type": "code",
   "execution_count": 3,
   "metadata": {},
   "outputs": [],
   "source": [
    "hp_train = pd.read_csv(\"House_prices_train.csv\")\n",
    "hp_test = pd.read_csv(\"House_prices_test.csv\")"
   ]
  },
  {
   "cell_type": "code",
   "execution_count": 4,
   "metadata": {},
   "outputs": [
    {
     "name": "stdout",
     "output_type": "stream",
     "text": [
      "Shape of training data:  (1460, 81)\n"
     ]
    },
    {
     "data": {
      "text/html": [
       "<div>\n",
       "<style scoped>\n",
       "    .dataframe tbody tr th:only-of-type {\n",
       "        vertical-align: middle;\n",
       "    }\n",
       "\n",
       "    .dataframe tbody tr th {\n",
       "        vertical-align: top;\n",
       "    }\n",
       "\n",
       "    .dataframe thead th {\n",
       "        text-align: right;\n",
       "    }\n",
       "</style>\n",
       "<table border=\"1\" class=\"dataframe\">\n",
       "  <thead>\n",
       "    <tr style=\"text-align: right;\">\n",
       "      <th></th>\n",
       "      <th>Id</th>\n",
       "      <th>MSSubClass</th>\n",
       "      <th>MSZoning</th>\n",
       "      <th>LotFrontage</th>\n",
       "      <th>LotArea</th>\n",
       "      <th>Street</th>\n",
       "      <th>Alley</th>\n",
       "      <th>LotShape</th>\n",
       "      <th>LandContour</th>\n",
       "      <th>Utilities</th>\n",
       "      <th>...</th>\n",
       "      <th>PoolArea</th>\n",
       "      <th>PoolQC</th>\n",
       "      <th>Fence</th>\n",
       "      <th>MiscFeature</th>\n",
       "      <th>MiscVal</th>\n",
       "      <th>MoSold</th>\n",
       "      <th>YrSold</th>\n",
       "      <th>SaleType</th>\n",
       "      <th>SaleCondition</th>\n",
       "      <th>SalePrice</th>\n",
       "    </tr>\n",
       "  </thead>\n",
       "  <tbody>\n",
       "    <tr>\n",
       "      <th>0</th>\n",
       "      <td>1</td>\n",
       "      <td>60</td>\n",
       "      <td>RL</td>\n",
       "      <td>65.0</td>\n",
       "      <td>8450</td>\n",
       "      <td>Pave</td>\n",
       "      <td>NaN</td>\n",
       "      <td>Reg</td>\n",
       "      <td>Lvl</td>\n",
       "      <td>AllPub</td>\n",
       "      <td>...</td>\n",
       "      <td>0</td>\n",
       "      <td>NaN</td>\n",
       "      <td>NaN</td>\n",
       "      <td>NaN</td>\n",
       "      <td>0</td>\n",
       "      <td>2</td>\n",
       "      <td>2008</td>\n",
       "      <td>WD</td>\n",
       "      <td>Normal</td>\n",
       "      <td>208500</td>\n",
       "    </tr>\n",
       "    <tr>\n",
       "      <th>1</th>\n",
       "      <td>2</td>\n",
       "      <td>20</td>\n",
       "      <td>RL</td>\n",
       "      <td>80.0</td>\n",
       "      <td>9600</td>\n",
       "      <td>Pave</td>\n",
       "      <td>NaN</td>\n",
       "      <td>Reg</td>\n",
       "      <td>Lvl</td>\n",
       "      <td>AllPub</td>\n",
       "      <td>...</td>\n",
       "      <td>0</td>\n",
       "      <td>NaN</td>\n",
       "      <td>NaN</td>\n",
       "      <td>NaN</td>\n",
       "      <td>0</td>\n",
       "      <td>5</td>\n",
       "      <td>2007</td>\n",
       "      <td>WD</td>\n",
       "      <td>Normal</td>\n",
       "      <td>181500</td>\n",
       "    </tr>\n",
       "    <tr>\n",
       "      <th>2</th>\n",
       "      <td>3</td>\n",
       "      <td>60</td>\n",
       "      <td>RL</td>\n",
       "      <td>68.0</td>\n",
       "      <td>11250</td>\n",
       "      <td>Pave</td>\n",
       "      <td>NaN</td>\n",
       "      <td>IR1</td>\n",
       "      <td>Lvl</td>\n",
       "      <td>AllPub</td>\n",
       "      <td>...</td>\n",
       "      <td>0</td>\n",
       "      <td>NaN</td>\n",
       "      <td>NaN</td>\n",
       "      <td>NaN</td>\n",
       "      <td>0</td>\n",
       "      <td>9</td>\n",
       "      <td>2008</td>\n",
       "      <td>WD</td>\n",
       "      <td>Normal</td>\n",
       "      <td>223500</td>\n",
       "    </tr>\n",
       "    <tr>\n",
       "      <th>3</th>\n",
       "      <td>4</td>\n",
       "      <td>70</td>\n",
       "      <td>RL</td>\n",
       "      <td>60.0</td>\n",
       "      <td>9550</td>\n",
       "      <td>Pave</td>\n",
       "      <td>NaN</td>\n",
       "      <td>IR1</td>\n",
       "      <td>Lvl</td>\n",
       "      <td>AllPub</td>\n",
       "      <td>...</td>\n",
       "      <td>0</td>\n",
       "      <td>NaN</td>\n",
       "      <td>NaN</td>\n",
       "      <td>NaN</td>\n",
       "      <td>0</td>\n",
       "      <td>2</td>\n",
       "      <td>2006</td>\n",
       "      <td>WD</td>\n",
       "      <td>Abnorml</td>\n",
       "      <td>140000</td>\n",
       "    </tr>\n",
       "    <tr>\n",
       "      <th>4</th>\n",
       "      <td>5</td>\n",
       "      <td>60</td>\n",
       "      <td>RL</td>\n",
       "      <td>84.0</td>\n",
       "      <td>14260</td>\n",
       "      <td>Pave</td>\n",
       "      <td>NaN</td>\n",
       "      <td>IR1</td>\n",
       "      <td>Lvl</td>\n",
       "      <td>AllPub</td>\n",
       "      <td>...</td>\n",
       "      <td>0</td>\n",
       "      <td>NaN</td>\n",
       "      <td>NaN</td>\n",
       "      <td>NaN</td>\n",
       "      <td>0</td>\n",
       "      <td>12</td>\n",
       "      <td>2008</td>\n",
       "      <td>WD</td>\n",
       "      <td>Normal</td>\n",
       "      <td>250000</td>\n",
       "    </tr>\n",
       "  </tbody>\n",
       "</table>\n",
       "<p>5 rows × 81 columns</p>\n",
       "</div>"
      ],
      "text/plain": [
       "   Id  MSSubClass MSZoning  LotFrontage  LotArea Street Alley LotShape  \\\n",
       "0   1          60       RL         65.0     8450   Pave   NaN      Reg   \n",
       "1   2          20       RL         80.0     9600   Pave   NaN      Reg   \n",
       "2   3          60       RL         68.0    11250   Pave   NaN      IR1   \n",
       "3   4          70       RL         60.0     9550   Pave   NaN      IR1   \n",
       "4   5          60       RL         84.0    14260   Pave   NaN      IR1   \n",
       "\n",
       "  LandContour Utilities    ...     PoolArea PoolQC Fence MiscFeature MiscVal  \\\n",
       "0         Lvl    AllPub    ...            0    NaN   NaN         NaN       0   \n",
       "1         Lvl    AllPub    ...            0    NaN   NaN         NaN       0   \n",
       "2         Lvl    AllPub    ...            0    NaN   NaN         NaN       0   \n",
       "3         Lvl    AllPub    ...            0    NaN   NaN         NaN       0   \n",
       "4         Lvl    AllPub    ...            0    NaN   NaN         NaN       0   \n",
       "\n",
       "  MoSold YrSold  SaleType  SaleCondition  SalePrice  \n",
       "0      2   2008        WD         Normal     208500  \n",
       "1      5   2007        WD         Normal     181500  \n",
       "2      9   2008        WD         Normal     223500  \n",
       "3      2   2006        WD        Abnorml     140000  \n",
       "4     12   2008        WD         Normal     250000  \n",
       "\n",
       "[5 rows x 81 columns]"
      ]
     },
     "execution_count": 4,
     "metadata": {},
     "output_type": "execute_result"
    }
   ],
   "source": [
    "# Sneakpeak of train data\n",
    "print(\"Shape of training data: \",hp_train.shape)\n",
    "hp_train.head()"
   ]
  },
  {
   "cell_type": "code",
   "execution_count": 5,
   "metadata": {},
   "outputs": [
    {
     "name": "stdout",
     "output_type": "stream",
     "text": [
      "Shape of test data:  (1459, 80)\n"
     ]
    },
    {
     "data": {
      "text/html": [
       "<div>\n",
       "<style scoped>\n",
       "    .dataframe tbody tr th:only-of-type {\n",
       "        vertical-align: middle;\n",
       "    }\n",
       "\n",
       "    .dataframe tbody tr th {\n",
       "        vertical-align: top;\n",
       "    }\n",
       "\n",
       "    .dataframe thead th {\n",
       "        text-align: right;\n",
       "    }\n",
       "</style>\n",
       "<table border=\"1\" class=\"dataframe\">\n",
       "  <thead>\n",
       "    <tr style=\"text-align: right;\">\n",
       "      <th></th>\n",
       "      <th>Id</th>\n",
       "      <th>MSSubClass</th>\n",
       "      <th>MSZoning</th>\n",
       "      <th>LotFrontage</th>\n",
       "      <th>LotArea</th>\n",
       "      <th>Street</th>\n",
       "      <th>Alley</th>\n",
       "      <th>LotShape</th>\n",
       "      <th>LandContour</th>\n",
       "      <th>Utilities</th>\n",
       "      <th>...</th>\n",
       "      <th>ScreenPorch</th>\n",
       "      <th>PoolArea</th>\n",
       "      <th>PoolQC</th>\n",
       "      <th>Fence</th>\n",
       "      <th>MiscFeature</th>\n",
       "      <th>MiscVal</th>\n",
       "      <th>MoSold</th>\n",
       "      <th>YrSold</th>\n",
       "      <th>SaleType</th>\n",
       "      <th>SaleCondition</th>\n",
       "    </tr>\n",
       "  </thead>\n",
       "  <tbody>\n",
       "    <tr>\n",
       "      <th>0</th>\n",
       "      <td>1461</td>\n",
       "      <td>20</td>\n",
       "      <td>RH</td>\n",
       "      <td>80.0</td>\n",
       "      <td>11622</td>\n",
       "      <td>Pave</td>\n",
       "      <td>NaN</td>\n",
       "      <td>Reg</td>\n",
       "      <td>Lvl</td>\n",
       "      <td>AllPub</td>\n",
       "      <td>...</td>\n",
       "      <td>120</td>\n",
       "      <td>0</td>\n",
       "      <td>NaN</td>\n",
       "      <td>MnPrv</td>\n",
       "      <td>NaN</td>\n",
       "      <td>0</td>\n",
       "      <td>6</td>\n",
       "      <td>2010</td>\n",
       "      <td>WD</td>\n",
       "      <td>Normal</td>\n",
       "    </tr>\n",
       "    <tr>\n",
       "      <th>1</th>\n",
       "      <td>1462</td>\n",
       "      <td>20</td>\n",
       "      <td>RL</td>\n",
       "      <td>81.0</td>\n",
       "      <td>14267</td>\n",
       "      <td>Pave</td>\n",
       "      <td>NaN</td>\n",
       "      <td>IR1</td>\n",
       "      <td>Lvl</td>\n",
       "      <td>AllPub</td>\n",
       "      <td>...</td>\n",
       "      <td>0</td>\n",
       "      <td>0</td>\n",
       "      <td>NaN</td>\n",
       "      <td>NaN</td>\n",
       "      <td>Gar2</td>\n",
       "      <td>12500</td>\n",
       "      <td>6</td>\n",
       "      <td>2010</td>\n",
       "      <td>WD</td>\n",
       "      <td>Normal</td>\n",
       "    </tr>\n",
       "    <tr>\n",
       "      <th>2</th>\n",
       "      <td>1463</td>\n",
       "      <td>60</td>\n",
       "      <td>RL</td>\n",
       "      <td>74.0</td>\n",
       "      <td>13830</td>\n",
       "      <td>Pave</td>\n",
       "      <td>NaN</td>\n",
       "      <td>IR1</td>\n",
       "      <td>Lvl</td>\n",
       "      <td>AllPub</td>\n",
       "      <td>...</td>\n",
       "      <td>0</td>\n",
       "      <td>0</td>\n",
       "      <td>NaN</td>\n",
       "      <td>MnPrv</td>\n",
       "      <td>NaN</td>\n",
       "      <td>0</td>\n",
       "      <td>3</td>\n",
       "      <td>2010</td>\n",
       "      <td>WD</td>\n",
       "      <td>Normal</td>\n",
       "    </tr>\n",
       "    <tr>\n",
       "      <th>3</th>\n",
       "      <td>1464</td>\n",
       "      <td>60</td>\n",
       "      <td>RL</td>\n",
       "      <td>78.0</td>\n",
       "      <td>9978</td>\n",
       "      <td>Pave</td>\n",
       "      <td>NaN</td>\n",
       "      <td>IR1</td>\n",
       "      <td>Lvl</td>\n",
       "      <td>AllPub</td>\n",
       "      <td>...</td>\n",
       "      <td>0</td>\n",
       "      <td>0</td>\n",
       "      <td>NaN</td>\n",
       "      <td>NaN</td>\n",
       "      <td>NaN</td>\n",
       "      <td>0</td>\n",
       "      <td>6</td>\n",
       "      <td>2010</td>\n",
       "      <td>WD</td>\n",
       "      <td>Normal</td>\n",
       "    </tr>\n",
       "    <tr>\n",
       "      <th>4</th>\n",
       "      <td>1465</td>\n",
       "      <td>120</td>\n",
       "      <td>RL</td>\n",
       "      <td>43.0</td>\n",
       "      <td>5005</td>\n",
       "      <td>Pave</td>\n",
       "      <td>NaN</td>\n",
       "      <td>IR1</td>\n",
       "      <td>HLS</td>\n",
       "      <td>AllPub</td>\n",
       "      <td>...</td>\n",
       "      <td>144</td>\n",
       "      <td>0</td>\n",
       "      <td>NaN</td>\n",
       "      <td>NaN</td>\n",
       "      <td>NaN</td>\n",
       "      <td>0</td>\n",
       "      <td>1</td>\n",
       "      <td>2010</td>\n",
       "      <td>WD</td>\n",
       "      <td>Normal</td>\n",
       "    </tr>\n",
       "  </tbody>\n",
       "</table>\n",
       "<p>5 rows × 80 columns</p>\n",
       "</div>"
      ],
      "text/plain": [
       "     Id  MSSubClass MSZoning  LotFrontage  LotArea Street Alley LotShape  \\\n",
       "0  1461          20       RH         80.0    11622   Pave   NaN      Reg   \n",
       "1  1462          20       RL         81.0    14267   Pave   NaN      IR1   \n",
       "2  1463          60       RL         74.0    13830   Pave   NaN      IR1   \n",
       "3  1464          60       RL         78.0     9978   Pave   NaN      IR1   \n",
       "4  1465         120       RL         43.0     5005   Pave   NaN      IR1   \n",
       "\n",
       "  LandContour Utilities      ...       ScreenPorch PoolArea PoolQC  Fence  \\\n",
       "0         Lvl    AllPub      ...               120        0    NaN  MnPrv   \n",
       "1         Lvl    AllPub      ...                 0        0    NaN    NaN   \n",
       "2         Lvl    AllPub      ...                 0        0    NaN  MnPrv   \n",
       "3         Lvl    AllPub      ...                 0        0    NaN    NaN   \n",
       "4         HLS    AllPub      ...               144        0    NaN    NaN   \n",
       "\n",
       "  MiscFeature MiscVal MoSold  YrSold  SaleType  SaleCondition  \n",
       "0         NaN       0      6    2010        WD         Normal  \n",
       "1        Gar2   12500      6    2010        WD         Normal  \n",
       "2         NaN       0      3    2010        WD         Normal  \n",
       "3         NaN       0      6    2010        WD         Normal  \n",
       "4         NaN       0      1    2010        WD         Normal  \n",
       "\n",
       "[5 rows x 80 columns]"
      ]
     },
     "execution_count": 5,
     "metadata": {},
     "output_type": "execute_result"
    }
   ],
   "source": [
    "# Sneakpeak of test data\n",
    "print(\"Shape of test data: \",hp_test.shape)\n",
    "hp_test.head()"
   ]
  },
  {
   "cell_type": "code",
   "execution_count": 6,
   "metadata": {},
   "outputs": [
    {
     "data": {
      "text/plain": [
       "Index(['SalePrice'], dtype='object')"
      ]
     },
     "execution_count": 6,
     "metadata": {},
     "output_type": "execute_result"
    }
   ],
   "source": [
    "# target column identification\n",
    "\n",
    "hp_train.columns.difference(hp_test.columns)"
   ]
  },
  {
   "cell_type": "code",
   "execution_count": 7,
   "metadata": {},
   "outputs": [
    {
     "name": "stdout",
     "output_type": "stream",
     "text": [
      "Shape of combined Data:  (2919, 82)\n"
     ]
    },
    {
     "data": {
      "text/html": [
       "<div>\n",
       "<style scoped>\n",
       "    .dataframe tbody tr th:only-of-type {\n",
       "        vertical-align: middle;\n",
       "    }\n",
       "\n",
       "    .dataframe tbody tr th {\n",
       "        vertical-align: top;\n",
       "    }\n",
       "\n",
       "    .dataframe thead th {\n",
       "        text-align: right;\n",
       "    }\n",
       "</style>\n",
       "<table border=\"1\" class=\"dataframe\">\n",
       "  <thead>\n",
       "    <tr style=\"text-align: right;\">\n",
       "      <th></th>\n",
       "      <th>Id</th>\n",
       "      <th>MSSubClass</th>\n",
       "      <th>MSZoning</th>\n",
       "      <th>LotFrontage</th>\n",
       "      <th>LotArea</th>\n",
       "      <th>Street</th>\n",
       "      <th>Alley</th>\n",
       "      <th>LotShape</th>\n",
       "      <th>LandContour</th>\n",
       "      <th>Utilities</th>\n",
       "      <th>...</th>\n",
       "      <th>PoolQC</th>\n",
       "      <th>Fence</th>\n",
       "      <th>MiscFeature</th>\n",
       "      <th>MiscVal</th>\n",
       "      <th>MoSold</th>\n",
       "      <th>YrSold</th>\n",
       "      <th>SaleType</th>\n",
       "      <th>SaleCondition</th>\n",
       "      <th>SalePrice</th>\n",
       "      <th>data</th>\n",
       "    </tr>\n",
       "  </thead>\n",
       "  <tbody>\n",
       "    <tr>\n",
       "      <th>1454</th>\n",
       "      <td>2915</td>\n",
       "      <td>160</td>\n",
       "      <td>RM</td>\n",
       "      <td>21.0</td>\n",
       "      <td>1936</td>\n",
       "      <td>Pave</td>\n",
       "      <td>NaN</td>\n",
       "      <td>Reg</td>\n",
       "      <td>Lvl</td>\n",
       "      <td>AllPub</td>\n",
       "      <td>...</td>\n",
       "      <td>NaN</td>\n",
       "      <td>NaN</td>\n",
       "      <td>NaN</td>\n",
       "      <td>0</td>\n",
       "      <td>6</td>\n",
       "      <td>2006</td>\n",
       "      <td>WD</td>\n",
       "      <td>Normal</td>\n",
       "      <td>NaN</td>\n",
       "      <td>test</td>\n",
       "    </tr>\n",
       "    <tr>\n",
       "      <th>1455</th>\n",
       "      <td>2916</td>\n",
       "      <td>160</td>\n",
       "      <td>RM</td>\n",
       "      <td>21.0</td>\n",
       "      <td>1894</td>\n",
       "      <td>Pave</td>\n",
       "      <td>NaN</td>\n",
       "      <td>Reg</td>\n",
       "      <td>Lvl</td>\n",
       "      <td>AllPub</td>\n",
       "      <td>...</td>\n",
       "      <td>NaN</td>\n",
       "      <td>NaN</td>\n",
       "      <td>NaN</td>\n",
       "      <td>0</td>\n",
       "      <td>4</td>\n",
       "      <td>2006</td>\n",
       "      <td>WD</td>\n",
       "      <td>Abnorml</td>\n",
       "      <td>NaN</td>\n",
       "      <td>test</td>\n",
       "    </tr>\n",
       "    <tr>\n",
       "      <th>1456</th>\n",
       "      <td>2917</td>\n",
       "      <td>20</td>\n",
       "      <td>RL</td>\n",
       "      <td>160.0</td>\n",
       "      <td>20000</td>\n",
       "      <td>Pave</td>\n",
       "      <td>NaN</td>\n",
       "      <td>Reg</td>\n",
       "      <td>Lvl</td>\n",
       "      <td>AllPub</td>\n",
       "      <td>...</td>\n",
       "      <td>NaN</td>\n",
       "      <td>NaN</td>\n",
       "      <td>NaN</td>\n",
       "      <td>0</td>\n",
       "      <td>9</td>\n",
       "      <td>2006</td>\n",
       "      <td>WD</td>\n",
       "      <td>Abnorml</td>\n",
       "      <td>NaN</td>\n",
       "      <td>test</td>\n",
       "    </tr>\n",
       "    <tr>\n",
       "      <th>1457</th>\n",
       "      <td>2918</td>\n",
       "      <td>85</td>\n",
       "      <td>RL</td>\n",
       "      <td>62.0</td>\n",
       "      <td>10441</td>\n",
       "      <td>Pave</td>\n",
       "      <td>NaN</td>\n",
       "      <td>Reg</td>\n",
       "      <td>Lvl</td>\n",
       "      <td>AllPub</td>\n",
       "      <td>...</td>\n",
       "      <td>NaN</td>\n",
       "      <td>MnPrv</td>\n",
       "      <td>Shed</td>\n",
       "      <td>700</td>\n",
       "      <td>7</td>\n",
       "      <td>2006</td>\n",
       "      <td>WD</td>\n",
       "      <td>Normal</td>\n",
       "      <td>NaN</td>\n",
       "      <td>test</td>\n",
       "    </tr>\n",
       "    <tr>\n",
       "      <th>1458</th>\n",
       "      <td>2919</td>\n",
       "      <td>60</td>\n",
       "      <td>RL</td>\n",
       "      <td>74.0</td>\n",
       "      <td>9627</td>\n",
       "      <td>Pave</td>\n",
       "      <td>NaN</td>\n",
       "      <td>Reg</td>\n",
       "      <td>Lvl</td>\n",
       "      <td>AllPub</td>\n",
       "      <td>...</td>\n",
       "      <td>NaN</td>\n",
       "      <td>NaN</td>\n",
       "      <td>NaN</td>\n",
       "      <td>0</td>\n",
       "      <td>11</td>\n",
       "      <td>2006</td>\n",
       "      <td>WD</td>\n",
       "      <td>Normal</td>\n",
       "      <td>NaN</td>\n",
       "      <td>test</td>\n",
       "    </tr>\n",
       "  </tbody>\n",
       "</table>\n",
       "<p>5 rows × 82 columns</p>\n",
       "</div>"
      ],
      "text/plain": [
       "        Id  MSSubClass MSZoning  LotFrontage  LotArea Street Alley LotShape  \\\n",
       "1454  2915         160       RM         21.0     1936   Pave   NaN      Reg   \n",
       "1455  2916         160       RM         21.0     1894   Pave   NaN      Reg   \n",
       "1456  2917          20       RL        160.0    20000   Pave   NaN      Reg   \n",
       "1457  2918          85       RL         62.0    10441   Pave   NaN      Reg   \n",
       "1458  2919          60       RL         74.0     9627   Pave   NaN      Reg   \n",
       "\n",
       "     LandContour Utilities  ...  PoolQC  Fence MiscFeature MiscVal MoSold  \\\n",
       "1454         Lvl    AllPub  ...     NaN    NaN         NaN       0      6   \n",
       "1455         Lvl    AllPub  ...     NaN    NaN         NaN       0      4   \n",
       "1456         Lvl    AllPub  ...     NaN    NaN         NaN       0      9   \n",
       "1457         Lvl    AllPub  ...     NaN  MnPrv        Shed     700      7   \n",
       "1458         Lvl    AllPub  ...     NaN    NaN         NaN       0     11   \n",
       "\n",
       "     YrSold SaleType  SaleCondition  SalePrice  data  \n",
       "1454   2006       WD         Normal        NaN  test  \n",
       "1455   2006       WD        Abnorml        NaN  test  \n",
       "1456   2006       WD        Abnorml        NaN  test  \n",
       "1457   2006       WD         Normal        NaN  test  \n",
       "1458   2006       WD         Normal        NaN  test  \n",
       "\n",
       "[5 rows x 82 columns]"
      ]
     },
     "execution_count": 7,
     "metadata": {},
     "output_type": "execute_result"
    }
   ],
   "source": [
    "# Combining train and test data\n",
    "\n",
    "hp_train[\"data\"] = 'train'\n",
    "hp_test['data'] = 'test'\n",
    "hp_test['SalePrice'] = np.nan\n",
    "hp_test = hp_test[hp_train.columns]\n",
    "hp = pd.concat([hp_train,hp_test],axis = 0)\n",
    "print(\"Shape of combined Data: \",hp.shape)\n",
    "hp.tail()"
   ]
  },
  {
   "cell_type": "markdown",
   "metadata": {},
   "source": [
    "### Data Preparation"
   ]
  },
  {
   "cell_type": "code",
   "execution_count": 8,
   "metadata": {},
   "outputs": [
    {
     "data": {
      "text/plain": [
       "[('Id', dtype('int64'), 2919),\n",
       " ('MSSubClass', dtype('int64'), 16),\n",
       " ('MSZoning', dtype('O'), 6),\n",
       " ('LotFrontage', dtype('float64'), 129),\n",
       " ('LotArea', dtype('int64'), 1951),\n",
       " ('Street', dtype('O'), 2),\n",
       " ('Alley', dtype('O'), 3),\n",
       " ('LotShape', dtype('O'), 4),\n",
       " ('LandContour', dtype('O'), 4),\n",
       " ('Utilities', dtype('O'), 3),\n",
       " ('LotConfig', dtype('O'), 5),\n",
       " ('LandSlope', dtype('O'), 3),\n",
       " ('Neighborhood', dtype('O'), 25),\n",
       " ('Condition1', dtype('O'), 9),\n",
       " ('Condition2', dtype('O'), 8),\n",
       " ('BldgType', dtype('O'), 5),\n",
       " ('HouseStyle', dtype('O'), 8),\n",
       " ('OverallQual', dtype('int64'), 10),\n",
       " ('OverallCond', dtype('int64'), 9),\n",
       " ('YearBuilt', dtype('int64'), 118),\n",
       " ('YearRemodAdd', dtype('int64'), 61),\n",
       " ('RoofStyle', dtype('O'), 6),\n",
       " ('RoofMatl', dtype('O'), 8),\n",
       " ('Exterior1st', dtype('O'), 16),\n",
       " ('Exterior2nd', dtype('O'), 17),\n",
       " ('MasVnrType', dtype('O'), 5),\n",
       " ('MasVnrArea', dtype('float64'), 445),\n",
       " ('ExterQual', dtype('O'), 4),\n",
       " ('ExterCond', dtype('O'), 5),\n",
       " ('Foundation', dtype('O'), 6),\n",
       " ('BsmtQual', dtype('O'), 5),\n",
       " ('BsmtCond', dtype('O'), 5),\n",
       " ('BsmtExposure', dtype('O'), 5),\n",
       " ('BsmtFinType1', dtype('O'), 7),\n",
       " ('BsmtFinSF1', dtype('float64'), 992),\n",
       " ('BsmtFinType2', dtype('O'), 7),\n",
       " ('BsmtFinSF2', dtype('float64'), 273),\n",
       " ('BsmtUnfSF', dtype('float64'), 1136),\n",
       " ('TotalBsmtSF', dtype('float64'), 1059),\n",
       " ('Heating', dtype('O'), 6),\n",
       " ('HeatingQC', dtype('O'), 5),\n",
       " ('CentralAir', dtype('O'), 2),\n",
       " ('Electrical', dtype('O'), 6),\n",
       " ('1stFlrSF', dtype('int64'), 1083),\n",
       " ('2ndFlrSF', dtype('int64'), 635),\n",
       " ('LowQualFinSF', dtype('int64'), 36),\n",
       " ('GrLivArea', dtype('int64'), 1292),\n",
       " ('BsmtFullBath', dtype('float64'), 5),\n",
       " ('BsmtHalfBath', dtype('float64'), 4),\n",
       " ('FullBath', dtype('int64'), 5),\n",
       " ('HalfBath', dtype('int64'), 3),\n",
       " ('BedroomAbvGr', dtype('int64'), 8),\n",
       " ('KitchenAbvGr', dtype('int64'), 4),\n",
       " ('KitchenQual', dtype('O'), 5),\n",
       " ('TotRmsAbvGrd', dtype('int64'), 14),\n",
       " ('Functional', dtype('O'), 8),\n",
       " ('Fireplaces', dtype('int64'), 5),\n",
       " ('FireplaceQu', dtype('O'), 6),\n",
       " ('GarageType', dtype('O'), 7),\n",
       " ('GarageYrBlt', dtype('float64'), 104),\n",
       " ('GarageFinish', dtype('O'), 4),\n",
       " ('GarageCars', dtype('float64'), 7),\n",
       " ('GarageArea', dtype('float64'), 604),\n",
       " ('GarageQual', dtype('O'), 6),\n",
       " ('GarageCond', dtype('O'), 6),\n",
       " ('PavedDrive', dtype('O'), 3),\n",
       " ('WoodDeckSF', dtype('int64'), 379),\n",
       " ('OpenPorchSF', dtype('int64'), 252),\n",
       " ('EnclosedPorch', dtype('int64'), 183),\n",
       " ('3SsnPorch', dtype('int64'), 31),\n",
       " ('ScreenPorch', dtype('int64'), 121),\n",
       " ('PoolArea', dtype('int64'), 14),\n",
       " ('PoolQC', dtype('O'), 4),\n",
       " ('Fence', dtype('O'), 5),\n",
       " ('MiscFeature', dtype('O'), 5),\n",
       " ('MiscVal', dtype('int64'), 38),\n",
       " ('MoSold', dtype('int64'), 12),\n",
       " ('YrSold', dtype('int64'), 5),\n",
       " ('SaleType', dtype('O'), 10),\n",
       " ('SaleCondition', dtype('O'), 6),\n",
       " ('SalePrice', dtype('float64'), 664),\n",
       " ('data', dtype('O'), 2)]"
      ]
     },
     "execution_count": 8,
     "metadata": {},
     "output_type": "execute_result"
    }
   ],
   "source": [
    "# exploring datatype and unique values for each column/feature\n",
    "list(zip(hp.columns,hp.dtypes,hp.nunique(dropna=False)))"
   ]
  },
  {
   "cell_type": "code",
   "execution_count": 9,
   "metadata": {},
   "outputs": [],
   "source": [
    "# Feature 'Id' does not contribute towards the target SalePrice, hence remove the feature\n",
    "del hp[\"Id\"]"
   ]
  },
  {
   "cell_type": "code",
   "execution_count": 10,
   "metadata": {},
   "outputs": [
    {
     "name": "stdout",
     "output_type": "stream",
     "text": [
      "<class 'pandas.core.frame.DataFrame'>\n",
      "Int64Index: 2919 entries, 0 to 1458\n",
      "Data columns (total 81 columns):\n",
      "MSSubClass       2919 non-null int64\n",
      "MSZoning         2915 non-null object\n",
      "LotFrontage      2433 non-null float64\n",
      "LotArea          2919 non-null int64\n",
      "Street           2919 non-null object\n",
      "Alley            198 non-null object\n",
      "LotShape         2919 non-null object\n",
      "LandContour      2919 non-null object\n",
      "Utilities        2917 non-null object\n",
      "LotConfig        2919 non-null object\n",
      "LandSlope        2919 non-null object\n",
      "Neighborhood     2919 non-null object\n",
      "Condition1       2919 non-null object\n",
      "Condition2       2919 non-null object\n",
      "BldgType         2919 non-null object\n",
      "HouseStyle       2919 non-null object\n",
      "OverallQual      2919 non-null int64\n",
      "OverallCond      2919 non-null int64\n",
      "YearBuilt        2919 non-null int64\n",
      "YearRemodAdd     2919 non-null int64\n",
      "RoofStyle        2919 non-null object\n",
      "RoofMatl         2919 non-null object\n",
      "Exterior1st      2918 non-null object\n",
      "Exterior2nd      2918 non-null object\n",
      "MasVnrType       2895 non-null object\n",
      "MasVnrArea       2896 non-null float64\n",
      "ExterQual        2919 non-null object\n",
      "ExterCond        2919 non-null object\n",
      "Foundation       2919 non-null object\n",
      "BsmtQual         2838 non-null object\n",
      "BsmtCond         2837 non-null object\n",
      "BsmtExposure     2837 non-null object\n",
      "BsmtFinType1     2840 non-null object\n",
      "BsmtFinSF1       2918 non-null float64\n",
      "BsmtFinType2     2839 non-null object\n",
      "BsmtFinSF2       2918 non-null float64\n",
      "BsmtUnfSF        2918 non-null float64\n",
      "TotalBsmtSF      2918 non-null float64\n",
      "Heating          2919 non-null object\n",
      "HeatingQC        2919 non-null object\n",
      "CentralAir       2919 non-null object\n",
      "Electrical       2918 non-null object\n",
      "1stFlrSF         2919 non-null int64\n",
      "2ndFlrSF         2919 non-null int64\n",
      "LowQualFinSF     2919 non-null int64\n",
      "GrLivArea        2919 non-null int64\n",
      "BsmtFullBath     2917 non-null float64\n",
      "BsmtHalfBath     2917 non-null float64\n",
      "FullBath         2919 non-null int64\n",
      "HalfBath         2919 non-null int64\n",
      "BedroomAbvGr     2919 non-null int64\n",
      "KitchenAbvGr     2919 non-null int64\n",
      "KitchenQual      2918 non-null object\n",
      "TotRmsAbvGrd     2919 non-null int64\n",
      "Functional       2917 non-null object\n",
      "Fireplaces       2919 non-null int64\n",
      "FireplaceQu      1499 non-null object\n",
      "GarageType       2762 non-null object\n",
      "GarageYrBlt      2760 non-null float64\n",
      "GarageFinish     2760 non-null object\n",
      "GarageCars       2918 non-null float64\n",
      "GarageArea       2918 non-null float64\n",
      "GarageQual       2760 non-null object\n",
      "GarageCond       2760 non-null object\n",
      "PavedDrive       2919 non-null object\n",
      "WoodDeckSF       2919 non-null int64\n",
      "OpenPorchSF      2919 non-null int64\n",
      "EnclosedPorch    2919 non-null int64\n",
      "3SsnPorch        2919 non-null int64\n",
      "ScreenPorch      2919 non-null int64\n",
      "PoolArea         2919 non-null int64\n",
      "PoolQC           10 non-null object\n",
      "Fence            571 non-null object\n",
      "MiscFeature      105 non-null object\n",
      "MiscVal          2919 non-null int64\n",
      "MoSold           2919 non-null int64\n",
      "YrSold           2919 non-null int64\n",
      "SaleType         2918 non-null object\n",
      "SaleCondition    2919 non-null object\n",
      "SalePrice        1460 non-null float64\n",
      "data             2919 non-null object\n",
      "dtypes: float64(12), int64(25), object(44)\n",
      "memory usage: 1.8+ MB\n"
     ]
    }
   ],
   "source": [
    "hp.info()       # Gives idea about the memory space it occupies"
   ]
  },
  {
   "cell_type": "code",
   "execution_count": 11,
   "metadata": {},
   "outputs": [
    {
     "name": "stdout",
     "output_type": "stream",
     "text": [
      "Categorical columns:  ['MSZoning', 'Street', 'Alley', 'LotShape', 'LandContour', 'Utilities', 'LotConfig', 'LandSlope', 'Neighborhood', 'Condition1', 'Condition2', 'BldgType', 'HouseStyle', 'RoofStyle', 'RoofMatl', 'Exterior1st', 'Exterior2nd', 'MasVnrType', 'ExterQual', 'ExterCond', 'Foundation', 'BsmtQual', 'BsmtCond', 'BsmtExposure', 'BsmtFinType1', 'BsmtFinType2', 'Heating', 'HeatingQC', 'CentralAir', 'Electrical', 'KitchenQual', 'Functional', 'FireplaceQu', 'GarageType', 'GarageFinish', 'GarageQual', 'GarageCond', 'PavedDrive', 'PoolQC', 'Fence', 'MiscFeature', 'SaleType', 'SaleCondition', 'data']\n"
     ]
    }
   ],
   "source": [
    "cat_cols = hp.select_dtypes(['object']).columns\n",
    "print(\"Categorical columns: \",cat_cols.tolist())"
   ]
  },
  {
   "cell_type": "code",
   "execution_count": 12,
   "metadata": {},
   "outputs": [
    {
     "data": {
      "text/plain": [
       "MSZoning          0.137033\n",
       "Street            0.000000\n",
       "Alley            93.216855\n",
       "LotShape          0.000000\n",
       "LandContour       0.000000\n",
       "Utilities         0.068517\n",
       "LotConfig         0.000000\n",
       "LandSlope         0.000000\n",
       "Neighborhood      0.000000\n",
       "Condition1        0.000000\n",
       "Condition2        0.000000\n",
       "BldgType          0.000000\n",
       "HouseStyle        0.000000\n",
       "RoofStyle         0.000000\n",
       "RoofMatl          0.000000\n",
       "Exterior1st       0.034258\n",
       "Exterior2nd       0.034258\n",
       "MasVnrType        0.822199\n",
       "ExterQual         0.000000\n",
       "ExterCond         0.000000\n",
       "Foundation        0.000000\n",
       "BsmtQual          2.774923\n",
       "BsmtCond          2.809181\n",
       "BsmtExposure      2.809181\n",
       "BsmtFinType1      2.706406\n",
       "BsmtFinType2      2.740665\n",
       "Heating           0.000000\n",
       "HeatingQC         0.000000\n",
       "CentralAir        0.000000\n",
       "Electrical        0.034258\n",
       "KitchenQual       0.034258\n",
       "Functional        0.068517\n",
       "FireplaceQu      48.646797\n",
       "GarageType        5.378554\n",
       "GarageFinish      5.447071\n",
       "GarageQual        5.447071\n",
       "GarageCond        5.447071\n",
       "PavedDrive        0.000000\n",
       "PoolQC           99.657417\n",
       "Fence            80.438506\n",
       "MiscFeature      96.402878\n",
       "SaleType          0.034258\n",
       "SaleCondition     0.000000\n",
       "data              0.000000\n",
       "dtype: float64"
      ]
     },
     "execution_count": 12,
     "metadata": {},
     "output_type": "execute_result"
    }
   ],
   "source": [
    "(hp[cat_cols].isnull().sum())*100/hp.shape[0]"
   ]
  },
  {
   "cell_type": "markdown",
   "metadata": {},
   "source": [
    "### Imputing missing value for categorical columns with mode"
   ]
  },
  {
   "cell_type": "code",
   "execution_count": 13,
   "metadata": {},
   "outputs": [
    {
     "name": "stdout",
     "output_type": "stream",
     "text": [
      "NaN     2721\n",
      "Grvl     120\n",
      "Pave      78\n",
      "Name: Alley, dtype: int64\n"
     ]
    }
   ],
   "source": [
    "print(hp['Alley'].value_counts(dropna = False))"
   ]
  },
  {
   "cell_type": "code",
   "execution_count": 14,
   "metadata": {},
   "outputs": [],
   "source": [
    "hp['Alley'] = np.where(hp['Alley'].isnull(),\"No_Alley_Access\",hp['Alley'])"
   ]
  },
  {
   "cell_type": "code",
   "execution_count": 15,
   "metadata": {},
   "outputs": [
    {
     "name": "stdout",
     "output_type": "stream",
     "text": [
      "NaN    1420\n",
      "Gd      744\n",
      "TA      592\n",
      "Fa       74\n",
      "Po       46\n",
      "Ex       43\n",
      "Name: FireplaceQu, dtype: int64\n"
     ]
    }
   ],
   "source": [
    "print(hp['FireplaceQu'].value_counts(dropna = False))"
   ]
  },
  {
   "cell_type": "code",
   "execution_count": 16,
   "metadata": {},
   "outputs": [],
   "source": [
    "hp['FireplaceQu'] = np.where(hp['FireplaceQu'].isnull(),\"No_Fireplace\",hp['FireplaceQu'])"
   ]
  },
  {
   "cell_type": "code",
   "execution_count": 17,
   "metadata": {},
   "outputs": [
    {
     "name": "stdout",
     "output_type": "stream",
     "text": [
      "NaN    2909\n",
      "Gd        4\n",
      "Ex        4\n",
      "Fa        2\n",
      "Name: PoolQC, dtype: int64\n"
     ]
    }
   ],
   "source": [
    "print(hp['PoolQC'].value_counts(dropna = False))"
   ]
  },
  {
   "cell_type": "code",
   "execution_count": 18,
   "metadata": {},
   "outputs": [],
   "source": [
    "hp['PoolQC'] = np.where(hp['PoolQC'].isnull(),\"No_Pool\",hp['PoolQC'])"
   ]
  },
  {
   "cell_type": "code",
   "execution_count": 19,
   "metadata": {},
   "outputs": [
    {
     "name": "stdout",
     "output_type": "stream",
     "text": [
      "NaN      2348\n",
      "MnPrv     329\n",
      "GdPrv     118\n",
      "GdWo      112\n",
      "MnWw       12\n",
      "Name: Fence, dtype: int64\n"
     ]
    }
   ],
   "source": [
    "print(hp['Fence'].value_counts(dropna = False))"
   ]
  },
  {
   "cell_type": "code",
   "execution_count": 20,
   "metadata": {},
   "outputs": [],
   "source": [
    "hp['Fence'] = np.where(hp['Fence'].isnull(),\"No_Fence\",hp['Fence'])"
   ]
  },
  {
   "cell_type": "code",
   "execution_count": 21,
   "metadata": {},
   "outputs": [
    {
     "name": "stdout",
     "output_type": "stream",
     "text": [
      "NaN     2814\n",
      "Shed      95\n",
      "Gar2       5\n",
      "Othr       4\n",
      "TenC       1\n",
      "Name: MiscFeature, dtype: int64\n"
     ]
    }
   ],
   "source": [
    "print(hp['MiscFeature'].value_counts(dropna = False))"
   ]
  },
  {
   "cell_type": "code",
   "execution_count": 22,
   "metadata": {},
   "outputs": [],
   "source": [
    "hp['MiscFeature'] = np.where(hp['MiscFeature'].isnull(),\"No_MiscFeature\",hp['MiscFeature'])"
   ]
  },
  {
   "cell_type": "code",
   "execution_count": 23,
   "metadata": {},
   "outputs": [
    {
     "name": "stdout",
     "output_type": "stream",
     "text": [
      "RL         2265\n",
      "RM          460\n",
      "FV          139\n",
      "RH           26\n",
      "C (all)      25\n",
      "NaN           4\n",
      "Name: MSZoning, dtype: int64\n"
     ]
    }
   ],
   "source": [
    "print(hp['MSZoning'].value_counts(dropna = False))"
   ]
  },
  {
   "cell_type": "code",
   "execution_count": 24,
   "metadata": {},
   "outputs": [],
   "source": [
    "hp['MSZoning'] = np.where(hp['MSZoning'].isnull(),\"RL\",hp['MSZoning'])"
   ]
  },
  {
   "cell_type": "code",
   "execution_count": 25,
   "metadata": {},
   "outputs": [
    {
     "name": "stdout",
     "output_type": "stream",
     "text": [
      "VinylSd    1025\n",
      "MetalSd     450\n",
      "HdBoard     442\n",
      "Wd Sdng     411\n",
      "Plywood     221\n",
      "CemntBd     126\n",
      "BrkFace      87\n",
      "WdShing      56\n",
      "AsbShng      44\n",
      "Stucco       43\n",
      "BrkComm       6\n",
      "CBlock        2\n",
      "Stone         2\n",
      "AsphShn       2\n",
      "ImStucc       1\n",
      "NaN           1\n",
      "Name: Exterior1st, dtype: int64\n"
     ]
    }
   ],
   "source": [
    "print(hp['Exterior1st'].value_counts(dropna = False))"
   ]
  },
  {
   "cell_type": "code",
   "execution_count": 26,
   "metadata": {},
   "outputs": [],
   "source": [
    "hp['Exterior1st'] = np.where(hp['Exterior1st'].isnull(),\"VinylSd\",hp['Exterior1st'])"
   ]
  },
  {
   "cell_type": "code",
   "execution_count": 27,
   "metadata": {},
   "outputs": [
    {
     "name": "stdout",
     "output_type": "stream",
     "text": [
      "VinylSd    1014\n",
      "MetalSd     447\n",
      "HdBoard     406\n",
      "Wd Sdng     391\n",
      "Plywood     270\n",
      "CmentBd     126\n",
      "Wd Shng      81\n",
      "BrkFace      47\n",
      "Stucco       47\n",
      "AsbShng      38\n",
      "Brk Cmn      22\n",
      "ImStucc      15\n",
      "Stone         6\n",
      "AsphShn       4\n",
      "CBlock        3\n",
      "Other         1\n",
      "NaN           1\n",
      "Name: Exterior2nd, dtype: int64\n"
     ]
    }
   ],
   "source": [
    "print(hp['Exterior2nd'].value_counts(dropna = False))"
   ]
  },
  {
   "cell_type": "code",
   "execution_count": 28,
   "metadata": {},
   "outputs": [],
   "source": [
    "hp['Exterior2nd'] = np.where(hp['Exterior2nd'].isnull(),\"VinylSd\",hp['Exterior2nd'])"
   ]
  },
  {
   "cell_type": "code",
   "execution_count": 29,
   "metadata": {},
   "outputs": [
    {
     "name": "stdout",
     "output_type": "stream",
     "text": [
      "None       1742\n",
      "BrkFace     879\n",
      "Stone       249\n",
      "BrkCmn       25\n",
      "NaN          24\n",
      "Name: MasVnrType, dtype: int64\n"
     ]
    }
   ],
   "source": [
    "print(hp['MasVnrType'].value_counts(dropna = False))"
   ]
  },
  {
   "cell_type": "code",
   "execution_count": 30,
   "metadata": {},
   "outputs": [],
   "source": [
    "hp['MasVnrType'] = np.where(hp['MasVnrType'].isnull(),\"None\",hp['MasVnrType'])"
   ]
  },
  {
   "cell_type": "code",
   "execution_count": 31,
   "metadata": {},
   "outputs": [
    {
     "name": "stdout",
     "output_type": "stream",
     "text": [
      "TA     1283\n",
      "Gd     1209\n",
      "Ex      258\n",
      "Fa       88\n",
      "NaN      81\n",
      "Name: BsmtQual, dtype: int64\n"
     ]
    }
   ],
   "source": [
    "print(hp['BsmtQual'].value_counts(dropna = False))"
   ]
  },
  {
   "cell_type": "code",
   "execution_count": 32,
   "metadata": {},
   "outputs": [],
   "source": [
    "hp['BsmtQual'] = np.where(hp['BsmtQual'].isnull(),\"NoBasement\",hp['BsmtQual'])"
   ]
  },
  {
   "cell_type": "code",
   "execution_count": 33,
   "metadata": {},
   "outputs": [
    {
     "name": "stdout",
     "output_type": "stream",
     "text": [
      "TA     2606\n",
      "Gd      122\n",
      "Fa      104\n",
      "NaN      82\n",
      "Po        5\n",
      "Name: BsmtCond, dtype: int64\n"
     ]
    }
   ],
   "source": [
    "print(hp['BsmtCond'].value_counts(dropna = False))"
   ]
  },
  {
   "cell_type": "code",
   "execution_count": 34,
   "metadata": {},
   "outputs": [],
   "source": [
    "hp['BsmtCond'] = np.where(hp['BsmtCond'].isnull(),\"NoBasement\",hp['BsmtCond'])"
   ]
  },
  {
   "cell_type": "code",
   "execution_count": 35,
   "metadata": {},
   "outputs": [
    {
     "name": "stdout",
     "output_type": "stream",
     "text": [
      "No     1904\n",
      "Av      418\n",
      "Gd      276\n",
      "Mn      239\n",
      "NaN      82\n",
      "Name: BsmtExposure, dtype: int64\n"
     ]
    }
   ],
   "source": [
    "print(hp['BsmtExposure'].value_counts(dropna = False))"
   ]
  },
  {
   "cell_type": "code",
   "execution_count": 36,
   "metadata": {},
   "outputs": [],
   "source": [
    "hp['BsmtExposure'] = np.where(hp['BsmtExposure'].isnull(),\"NoBasement\",hp['BsmtExposure'])"
   ]
  },
  {
   "cell_type": "code",
   "execution_count": 37,
   "metadata": {},
   "outputs": [
    {
     "name": "stdout",
     "output_type": "stream",
     "text": [
      "Unf    851\n",
      "GLQ    849\n",
      "ALQ    429\n",
      "Rec    288\n",
      "BLQ    269\n",
      "LwQ    154\n",
      "NaN     79\n",
      "Name: BsmtFinType1, dtype: int64\n"
     ]
    }
   ],
   "source": [
    "print(hp['BsmtFinType1'].value_counts(dropna = False))"
   ]
  },
  {
   "cell_type": "code",
   "execution_count": 38,
   "metadata": {},
   "outputs": [],
   "source": [
    "hp['BsmtFinType1'] = np.where(hp['BsmtFinType1'].isnull(),\"NoBasement\",hp['BsmtFinType1'])"
   ]
  },
  {
   "cell_type": "code",
   "execution_count": 39,
   "metadata": {},
   "outputs": [
    {
     "name": "stdout",
     "output_type": "stream",
     "text": [
      "Unf    2493\n",
      "Rec     105\n",
      "LwQ      87\n",
      "NaN      80\n",
      "BLQ      68\n",
      "ALQ      52\n",
      "GLQ      34\n",
      "Name: BsmtFinType2, dtype: int64\n"
     ]
    }
   ],
   "source": [
    "print(hp['BsmtFinType2'].value_counts(dropna = False))"
   ]
  },
  {
   "cell_type": "code",
   "execution_count": 40,
   "metadata": {},
   "outputs": [],
   "source": [
    "hp['BsmtFinType2'] = np.where(hp['BsmtFinType2'].isnull(),\"NoBasement\",hp['BsmtFinType2'])"
   ]
  },
  {
   "cell_type": "code",
   "execution_count": 41,
   "metadata": {},
   "outputs": [
    {
     "name": "stdout",
     "output_type": "stream",
     "text": [
      "SBrkr    2671\n",
      "FuseA     188\n",
      "FuseF      50\n",
      "FuseP       8\n",
      "Mix         1\n",
      "NaN         1\n",
      "Name: Electrical, dtype: int64\n"
     ]
    }
   ],
   "source": [
    "print(hp['Electrical'].value_counts(dropna = False))"
   ]
  },
  {
   "cell_type": "code",
   "execution_count": 42,
   "metadata": {},
   "outputs": [],
   "source": [
    "hp['Electrical'] = np.where(hp['Electrical'].isnull(),\"SBrkr\",hp['Electrical'])"
   ]
  },
  {
   "cell_type": "code",
   "execution_count": 43,
   "metadata": {},
   "outputs": [
    {
     "name": "stdout",
     "output_type": "stream",
     "text": [
      "TA     1492\n",
      "Gd     1151\n",
      "Ex      205\n",
      "Fa       70\n",
      "NaN       1\n",
      "Name: KitchenQual, dtype: int64\n"
     ]
    }
   ],
   "source": [
    "print(hp['KitchenQual'].value_counts(dropna = False))"
   ]
  },
  {
   "cell_type": "code",
   "execution_count": 44,
   "metadata": {},
   "outputs": [],
   "source": [
    "hp['KitchenQual'] = np.where(hp['KitchenQual'].isnull(),\"TA\",hp['KitchenQual'])"
   ]
  },
  {
   "cell_type": "code",
   "execution_count": 45,
   "metadata": {},
   "outputs": [
    {
     "name": "stdout",
     "output_type": "stream",
     "text": [
      "Typ     2717\n",
      "Min2      70\n",
      "Min1      65\n",
      "Mod       35\n",
      "Maj1      19\n",
      "Maj2       9\n",
      "Sev        2\n",
      "NaN        2\n",
      "Name: Functional, dtype: int64\n"
     ]
    }
   ],
   "source": [
    "print(hp['Functional'].value_counts(dropna = False))"
   ]
  },
  {
   "cell_type": "code",
   "execution_count": 46,
   "metadata": {},
   "outputs": [],
   "source": [
    "hp['Functional'] = np.where(hp['Functional'].isnull(),\"Typ\",hp['Functional'])"
   ]
  },
  {
   "cell_type": "code",
   "execution_count": 47,
   "metadata": {},
   "outputs": [
    {
     "name": "stdout",
     "output_type": "stream",
     "text": [
      "Attchd     1723\n",
      "Detchd      779\n",
      "BuiltIn     186\n",
      "NaN         157\n",
      "Basment      36\n",
      "2Types       23\n",
      "CarPort      15\n",
      "Name: GarageType, dtype: int64\n"
     ]
    }
   ],
   "source": [
    "print(hp['GarageType'].value_counts(dropna = False))"
   ]
  },
  {
   "cell_type": "code",
   "execution_count": 48,
   "metadata": {},
   "outputs": [],
   "source": [
    "hp['GarageType'] = np.where(hp['GarageType'].isnull(),\"NoGarage\",hp['GarageType'])"
   ]
  },
  {
   "cell_type": "code",
   "execution_count": 49,
   "metadata": {},
   "outputs": [
    {
     "name": "stdout",
     "output_type": "stream",
     "text": [
      "Unf    1230\n",
      "RFn     811\n",
      "Fin     719\n",
      "NaN     159\n",
      "Name: GarageFinish, dtype: int64\n"
     ]
    }
   ],
   "source": [
    "print(hp['GarageFinish'].value_counts(dropna = False))"
   ]
  },
  {
   "cell_type": "code",
   "execution_count": 50,
   "metadata": {},
   "outputs": [],
   "source": [
    "hp['GarageFinish'] = np.where(hp['GarageFinish'].isnull(),\"NoGarage\",hp['GarageFinish'])"
   ]
  },
  {
   "cell_type": "code",
   "execution_count": 51,
   "metadata": {},
   "outputs": [
    {
     "name": "stdout",
     "output_type": "stream",
     "text": [
      "TA     2604\n",
      "NaN     159\n",
      "Fa      124\n",
      "Gd       24\n",
      "Po        5\n",
      "Ex        3\n",
      "Name: GarageQual, dtype: int64\n"
     ]
    }
   ],
   "source": [
    "print(hp['GarageQual'].value_counts(dropna = False))"
   ]
  },
  {
   "cell_type": "code",
   "execution_count": 52,
   "metadata": {},
   "outputs": [],
   "source": [
    "hp['GarageQual'] = np.where(hp['GarageQual'].isnull(),\"NoGarage\",hp['GarageQual'])"
   ]
  },
  {
   "cell_type": "code",
   "execution_count": 53,
   "metadata": {},
   "outputs": [
    {
     "name": "stdout",
     "output_type": "stream",
     "text": [
      "TA     2654\n",
      "NaN     159\n",
      "Fa       74\n",
      "Gd       15\n",
      "Po       14\n",
      "Ex        3\n",
      "Name: GarageCond, dtype: int64\n"
     ]
    }
   ],
   "source": [
    "print(hp['GarageCond'].value_counts(dropna = False))"
   ]
  },
  {
   "cell_type": "code",
   "execution_count": 54,
   "metadata": {},
   "outputs": [],
   "source": [
    "hp['GarageCond'] = np.where(hp['GarageCond'].isnull(),\"NoGarage\",hp['GarageCond'])"
   ]
  },
  {
   "cell_type": "code",
   "execution_count": 55,
   "metadata": {},
   "outputs": [
    {
     "name": "stdout",
     "output_type": "stream",
     "text": [
      "WD       2525\n",
      "New       239\n",
      "COD        87\n",
      "ConLD      26\n",
      "CWD        12\n",
      "ConLI       9\n",
      "ConLw       8\n",
      "Oth         7\n",
      "Con         5\n",
      "NaN         1\n",
      "Name: SaleType, dtype: int64\n"
     ]
    }
   ],
   "source": [
    "print(hp['SaleType'].value_counts(dropna = False))"
   ]
  },
  {
   "cell_type": "code",
   "execution_count": 56,
   "metadata": {},
   "outputs": [],
   "source": [
    "hp['SaleType'] = np.where(hp['SaleType'].isnull(),\"WD\",hp['SaleType'])"
   ]
  },
  {
   "cell_type": "code",
   "execution_count": 57,
   "metadata": {},
   "outputs": [
    {
     "name": "stdout",
     "output_type": "stream",
     "text": [
      "AllPub    2916\n",
      "NaN          2\n",
      "NoSeWa       1\n",
      "Name: Utilities, dtype: int64\n"
     ]
    }
   ],
   "source": [
    "print(hp['Utilities'].value_counts(dropna = False))"
   ]
  },
  {
   "cell_type": "code",
   "execution_count": 58,
   "metadata": {},
   "outputs": [],
   "source": [
    "hp['Utilities'] = np.where(hp['Utilities'].isnull(),\"AllPub\",hp['Utilities'])"
   ]
  },
  {
   "cell_type": "code",
   "execution_count": 59,
   "metadata": {},
   "outputs": [
    {
     "data": {
      "text/plain": [
       "MSZoning         0.0\n",
       "Street           0.0\n",
       "Alley            0.0\n",
       "LotShape         0.0\n",
       "LandContour      0.0\n",
       "Utilities        0.0\n",
       "LotConfig        0.0\n",
       "LandSlope        0.0\n",
       "Neighborhood     0.0\n",
       "Condition1       0.0\n",
       "Condition2       0.0\n",
       "BldgType         0.0\n",
       "HouseStyle       0.0\n",
       "RoofStyle        0.0\n",
       "RoofMatl         0.0\n",
       "Exterior1st      0.0\n",
       "Exterior2nd      0.0\n",
       "MasVnrType       0.0\n",
       "ExterQual        0.0\n",
       "ExterCond        0.0\n",
       "Foundation       0.0\n",
       "BsmtQual         0.0\n",
       "BsmtCond         0.0\n",
       "BsmtExposure     0.0\n",
       "BsmtFinType1     0.0\n",
       "BsmtFinType2     0.0\n",
       "Heating          0.0\n",
       "HeatingQC        0.0\n",
       "CentralAir       0.0\n",
       "Electrical       0.0\n",
       "KitchenQual      0.0\n",
       "Functional       0.0\n",
       "FireplaceQu      0.0\n",
       "GarageType       0.0\n",
       "GarageFinish     0.0\n",
       "GarageQual       0.0\n",
       "GarageCond       0.0\n",
       "PavedDrive       0.0\n",
       "PoolQC           0.0\n",
       "Fence            0.0\n",
       "MiscFeature      0.0\n",
       "SaleType         0.0\n",
       "SaleCondition    0.0\n",
       "data             0.0\n",
       "dtype: float64"
      ]
     },
     "execution_count": 59,
     "metadata": {},
     "output_type": "execute_result"
    }
   ],
   "source": [
    "# Lets check if all missing values are imputed for categorical column\n",
    "cat_cols = hp.select_dtypes(['object']).columns\n",
    "(hp[cat_cols].isnull().sum())*100/hp.shape[0]"
   ]
  },
  {
   "cell_type": "code",
   "execution_count": 60,
   "metadata": {},
   "outputs": [
    {
     "name": "stdout",
     "output_type": "stream",
     "text": [
      "Numeric columns:  ['1stFlrSF', '2ndFlrSF', '3SsnPorch', 'BedroomAbvGr', 'BsmtFinSF1', 'BsmtFinSF2', 'BsmtFullBath', 'BsmtHalfBath', 'BsmtUnfSF', 'EnclosedPorch', 'Fireplaces', 'FullBath', 'GarageArea', 'GarageCars', 'GarageYrBlt', 'GrLivArea', 'HalfBath', 'KitchenAbvGr', 'LotArea', 'LotFrontage', 'LowQualFinSF', 'MSSubClass', 'MasVnrArea', 'MiscVal', 'MoSold', 'OpenPorchSF', 'OverallCond', 'OverallQual', 'PoolArea', 'ScreenPorch', 'TotRmsAbvGrd', 'TotalBsmtSF', 'WoodDeckSF', 'YearBuilt', 'YearRemodAdd', 'YrSold']\n"
     ]
    }
   ],
   "source": [
    "num_cols = list(hp.columns.difference(cat_cols))\n",
    "np.array(num_cols.remove('SalePrice'))\n",
    "print(\"Numeric columns: \",num_cols)"
   ]
  },
  {
   "cell_type": "code",
   "execution_count": 61,
   "metadata": {},
   "outputs": [
    {
     "data": {
      "text/html": [
       "<div>\n",
       "<style scoped>\n",
       "    .dataframe tbody tr th:only-of-type {\n",
       "        vertical-align: middle;\n",
       "    }\n",
       "\n",
       "    .dataframe tbody tr th {\n",
       "        vertical-align: top;\n",
       "    }\n",
       "\n",
       "    .dataframe thead th {\n",
       "        text-align: right;\n",
       "    }\n",
       "</style>\n",
       "<table border=\"1\" class=\"dataframe\">\n",
       "  <thead>\n",
       "    <tr style=\"text-align: right;\">\n",
       "      <th></th>\n",
       "      <th>missing_percentage</th>\n",
       "    </tr>\n",
       "  </thead>\n",
       "  <tbody>\n",
       "    <tr>\n",
       "      <th>1stFlrSF</th>\n",
       "      <td>0.000000</td>\n",
       "    </tr>\n",
       "    <tr>\n",
       "      <th>2ndFlrSF</th>\n",
       "      <td>0.000000</td>\n",
       "    </tr>\n",
       "    <tr>\n",
       "      <th>3SsnPorch</th>\n",
       "      <td>0.000000</td>\n",
       "    </tr>\n",
       "    <tr>\n",
       "      <th>BedroomAbvGr</th>\n",
       "      <td>0.000000</td>\n",
       "    </tr>\n",
       "    <tr>\n",
       "      <th>BsmtFinSF1</th>\n",
       "      <td>0.034258</td>\n",
       "    </tr>\n",
       "    <tr>\n",
       "      <th>BsmtFinSF2</th>\n",
       "      <td>0.034258</td>\n",
       "    </tr>\n",
       "    <tr>\n",
       "      <th>BsmtFullBath</th>\n",
       "      <td>0.068517</td>\n",
       "    </tr>\n",
       "    <tr>\n",
       "      <th>BsmtHalfBath</th>\n",
       "      <td>0.068517</td>\n",
       "    </tr>\n",
       "    <tr>\n",
       "      <th>BsmtUnfSF</th>\n",
       "      <td>0.034258</td>\n",
       "    </tr>\n",
       "    <tr>\n",
       "      <th>EnclosedPorch</th>\n",
       "      <td>0.000000</td>\n",
       "    </tr>\n",
       "    <tr>\n",
       "      <th>Fireplaces</th>\n",
       "      <td>0.000000</td>\n",
       "    </tr>\n",
       "    <tr>\n",
       "      <th>FullBath</th>\n",
       "      <td>0.000000</td>\n",
       "    </tr>\n",
       "    <tr>\n",
       "      <th>GarageArea</th>\n",
       "      <td>0.034258</td>\n",
       "    </tr>\n",
       "    <tr>\n",
       "      <th>GarageCars</th>\n",
       "      <td>0.034258</td>\n",
       "    </tr>\n",
       "    <tr>\n",
       "      <th>GarageYrBlt</th>\n",
       "      <td>5.447071</td>\n",
       "    </tr>\n",
       "    <tr>\n",
       "      <th>GrLivArea</th>\n",
       "      <td>0.000000</td>\n",
       "    </tr>\n",
       "    <tr>\n",
       "      <th>HalfBath</th>\n",
       "      <td>0.000000</td>\n",
       "    </tr>\n",
       "    <tr>\n",
       "      <th>KitchenAbvGr</th>\n",
       "      <td>0.000000</td>\n",
       "    </tr>\n",
       "    <tr>\n",
       "      <th>LotArea</th>\n",
       "      <td>0.000000</td>\n",
       "    </tr>\n",
       "    <tr>\n",
       "      <th>LotFrontage</th>\n",
       "      <td>16.649538</td>\n",
       "    </tr>\n",
       "    <tr>\n",
       "      <th>LowQualFinSF</th>\n",
       "      <td>0.000000</td>\n",
       "    </tr>\n",
       "    <tr>\n",
       "      <th>MSSubClass</th>\n",
       "      <td>0.000000</td>\n",
       "    </tr>\n",
       "    <tr>\n",
       "      <th>MasVnrArea</th>\n",
       "      <td>0.787941</td>\n",
       "    </tr>\n",
       "    <tr>\n",
       "      <th>MiscVal</th>\n",
       "      <td>0.000000</td>\n",
       "    </tr>\n",
       "    <tr>\n",
       "      <th>MoSold</th>\n",
       "      <td>0.000000</td>\n",
       "    </tr>\n",
       "    <tr>\n",
       "      <th>OpenPorchSF</th>\n",
       "      <td>0.000000</td>\n",
       "    </tr>\n",
       "    <tr>\n",
       "      <th>OverallCond</th>\n",
       "      <td>0.000000</td>\n",
       "    </tr>\n",
       "    <tr>\n",
       "      <th>OverallQual</th>\n",
       "      <td>0.000000</td>\n",
       "    </tr>\n",
       "    <tr>\n",
       "      <th>PoolArea</th>\n",
       "      <td>0.000000</td>\n",
       "    </tr>\n",
       "    <tr>\n",
       "      <th>ScreenPorch</th>\n",
       "      <td>0.000000</td>\n",
       "    </tr>\n",
       "    <tr>\n",
       "      <th>TotRmsAbvGrd</th>\n",
       "      <td>0.000000</td>\n",
       "    </tr>\n",
       "    <tr>\n",
       "      <th>TotalBsmtSF</th>\n",
       "      <td>0.034258</td>\n",
       "    </tr>\n",
       "    <tr>\n",
       "      <th>WoodDeckSF</th>\n",
       "      <td>0.000000</td>\n",
       "    </tr>\n",
       "    <tr>\n",
       "      <th>YearBuilt</th>\n",
       "      <td>0.000000</td>\n",
       "    </tr>\n",
       "    <tr>\n",
       "      <th>YearRemodAdd</th>\n",
       "      <td>0.000000</td>\n",
       "    </tr>\n",
       "    <tr>\n",
       "      <th>YrSold</th>\n",
       "      <td>0.000000</td>\n",
       "    </tr>\n",
       "  </tbody>\n",
       "</table>\n",
       "</div>"
      ],
      "text/plain": [
       "               missing_percentage\n",
       "1stFlrSF                 0.000000\n",
       "2ndFlrSF                 0.000000\n",
       "3SsnPorch                0.000000\n",
       "BedroomAbvGr             0.000000\n",
       "BsmtFinSF1               0.034258\n",
       "BsmtFinSF2               0.034258\n",
       "BsmtFullBath             0.068517\n",
       "BsmtHalfBath             0.068517\n",
       "BsmtUnfSF                0.034258\n",
       "EnclosedPorch            0.000000\n",
       "Fireplaces               0.000000\n",
       "FullBath                 0.000000\n",
       "GarageArea               0.034258\n",
       "GarageCars               0.034258\n",
       "GarageYrBlt              5.447071\n",
       "GrLivArea                0.000000\n",
       "HalfBath                 0.000000\n",
       "KitchenAbvGr             0.000000\n",
       "LotArea                  0.000000\n",
       "LotFrontage             16.649538\n",
       "LowQualFinSF             0.000000\n",
       "MSSubClass               0.000000\n",
       "MasVnrArea               0.787941\n",
       "MiscVal                  0.000000\n",
       "MoSold                   0.000000\n",
       "OpenPorchSF              0.000000\n",
       "OverallCond              0.000000\n",
       "OverallQual              0.000000\n",
       "PoolArea                 0.000000\n",
       "ScreenPorch              0.000000\n",
       "TotRmsAbvGrd             0.000000\n",
       "TotalBsmtSF              0.034258\n",
       "WoodDeckSF               0.000000\n",
       "YearBuilt                0.000000\n",
       "YearRemodAdd             0.000000\n",
       "YrSold                   0.000000"
      ]
     },
     "execution_count": 61,
     "metadata": {},
     "output_type": "execute_result"
    }
   ],
   "source": [
    "num_missing_report = pd.DataFrame((hp[num_cols].isnull().sum())*100/hp.shape[0],columns=['missing_percentage'])\n",
    "num_missing_report"
   ]
  },
  {
   "cell_type": "code",
   "execution_count": 62,
   "metadata": {},
   "outputs": [],
   "source": [
    "# Except SalePrice(target), let us impute all other numeric columns with their mean\n",
    "for col in num_cols:\n",
    "    if num_missing_report.loc['TotalBsmtSF','missing_percentage'] >0:\n",
    "        hp[col] = np.where(hp[col].isnull(),np.mean(hp[col]),hp[col])"
   ]
  },
  {
   "cell_type": "code",
   "execution_count": 63,
   "metadata": {},
   "outputs": [
    {
     "data": {
      "text/html": [
       "<div>\n",
       "<style scoped>\n",
       "    .dataframe tbody tr th:only-of-type {\n",
       "        vertical-align: middle;\n",
       "    }\n",
       "\n",
       "    .dataframe tbody tr th {\n",
       "        vertical-align: top;\n",
       "    }\n",
       "\n",
       "    .dataframe thead th {\n",
       "        text-align: right;\n",
       "    }\n",
       "</style>\n",
       "<table border=\"1\" class=\"dataframe\">\n",
       "  <thead>\n",
       "    <tr style=\"text-align: right;\">\n",
       "      <th></th>\n",
       "      <th>missing_percentage</th>\n",
       "    </tr>\n",
       "  </thead>\n",
       "  <tbody>\n",
       "    <tr>\n",
       "      <th>1stFlrSF</th>\n",
       "      <td>0.0</td>\n",
       "    </tr>\n",
       "    <tr>\n",
       "      <th>2ndFlrSF</th>\n",
       "      <td>0.0</td>\n",
       "    </tr>\n",
       "    <tr>\n",
       "      <th>3SsnPorch</th>\n",
       "      <td>0.0</td>\n",
       "    </tr>\n",
       "    <tr>\n",
       "      <th>BedroomAbvGr</th>\n",
       "      <td>0.0</td>\n",
       "    </tr>\n",
       "    <tr>\n",
       "      <th>BsmtFinSF1</th>\n",
       "      <td>0.0</td>\n",
       "    </tr>\n",
       "    <tr>\n",
       "      <th>BsmtFinSF2</th>\n",
       "      <td>0.0</td>\n",
       "    </tr>\n",
       "    <tr>\n",
       "      <th>BsmtFullBath</th>\n",
       "      <td>0.0</td>\n",
       "    </tr>\n",
       "    <tr>\n",
       "      <th>BsmtHalfBath</th>\n",
       "      <td>0.0</td>\n",
       "    </tr>\n",
       "    <tr>\n",
       "      <th>BsmtUnfSF</th>\n",
       "      <td>0.0</td>\n",
       "    </tr>\n",
       "    <tr>\n",
       "      <th>EnclosedPorch</th>\n",
       "      <td>0.0</td>\n",
       "    </tr>\n",
       "    <tr>\n",
       "      <th>Fireplaces</th>\n",
       "      <td>0.0</td>\n",
       "    </tr>\n",
       "    <tr>\n",
       "      <th>FullBath</th>\n",
       "      <td>0.0</td>\n",
       "    </tr>\n",
       "    <tr>\n",
       "      <th>GarageArea</th>\n",
       "      <td>0.0</td>\n",
       "    </tr>\n",
       "    <tr>\n",
       "      <th>GarageCars</th>\n",
       "      <td>0.0</td>\n",
       "    </tr>\n",
       "    <tr>\n",
       "      <th>GarageYrBlt</th>\n",
       "      <td>0.0</td>\n",
       "    </tr>\n",
       "    <tr>\n",
       "      <th>GrLivArea</th>\n",
       "      <td>0.0</td>\n",
       "    </tr>\n",
       "    <tr>\n",
       "      <th>HalfBath</th>\n",
       "      <td>0.0</td>\n",
       "    </tr>\n",
       "    <tr>\n",
       "      <th>KitchenAbvGr</th>\n",
       "      <td>0.0</td>\n",
       "    </tr>\n",
       "    <tr>\n",
       "      <th>LotArea</th>\n",
       "      <td>0.0</td>\n",
       "    </tr>\n",
       "    <tr>\n",
       "      <th>LotFrontage</th>\n",
       "      <td>0.0</td>\n",
       "    </tr>\n",
       "    <tr>\n",
       "      <th>LowQualFinSF</th>\n",
       "      <td>0.0</td>\n",
       "    </tr>\n",
       "    <tr>\n",
       "      <th>MSSubClass</th>\n",
       "      <td>0.0</td>\n",
       "    </tr>\n",
       "    <tr>\n",
       "      <th>MasVnrArea</th>\n",
       "      <td>0.0</td>\n",
       "    </tr>\n",
       "    <tr>\n",
       "      <th>MiscVal</th>\n",
       "      <td>0.0</td>\n",
       "    </tr>\n",
       "    <tr>\n",
       "      <th>MoSold</th>\n",
       "      <td>0.0</td>\n",
       "    </tr>\n",
       "    <tr>\n",
       "      <th>OpenPorchSF</th>\n",
       "      <td>0.0</td>\n",
       "    </tr>\n",
       "    <tr>\n",
       "      <th>OverallCond</th>\n",
       "      <td>0.0</td>\n",
       "    </tr>\n",
       "    <tr>\n",
       "      <th>OverallQual</th>\n",
       "      <td>0.0</td>\n",
       "    </tr>\n",
       "    <tr>\n",
       "      <th>PoolArea</th>\n",
       "      <td>0.0</td>\n",
       "    </tr>\n",
       "    <tr>\n",
       "      <th>ScreenPorch</th>\n",
       "      <td>0.0</td>\n",
       "    </tr>\n",
       "    <tr>\n",
       "      <th>TotRmsAbvGrd</th>\n",
       "      <td>0.0</td>\n",
       "    </tr>\n",
       "    <tr>\n",
       "      <th>TotalBsmtSF</th>\n",
       "      <td>0.0</td>\n",
       "    </tr>\n",
       "    <tr>\n",
       "      <th>WoodDeckSF</th>\n",
       "      <td>0.0</td>\n",
       "    </tr>\n",
       "    <tr>\n",
       "      <th>YearBuilt</th>\n",
       "      <td>0.0</td>\n",
       "    </tr>\n",
       "    <tr>\n",
       "      <th>YearRemodAdd</th>\n",
       "      <td>0.0</td>\n",
       "    </tr>\n",
       "    <tr>\n",
       "      <th>YrSold</th>\n",
       "      <td>0.0</td>\n",
       "    </tr>\n",
       "  </tbody>\n",
       "</table>\n",
       "</div>"
      ],
      "text/plain": [
       "               missing_percentage\n",
       "1stFlrSF                      0.0\n",
       "2ndFlrSF                      0.0\n",
       "3SsnPorch                     0.0\n",
       "BedroomAbvGr                  0.0\n",
       "BsmtFinSF1                    0.0\n",
       "BsmtFinSF2                    0.0\n",
       "BsmtFullBath                  0.0\n",
       "BsmtHalfBath                  0.0\n",
       "BsmtUnfSF                     0.0\n",
       "EnclosedPorch                 0.0\n",
       "Fireplaces                    0.0\n",
       "FullBath                      0.0\n",
       "GarageArea                    0.0\n",
       "GarageCars                    0.0\n",
       "GarageYrBlt                   0.0\n",
       "GrLivArea                     0.0\n",
       "HalfBath                      0.0\n",
       "KitchenAbvGr                  0.0\n",
       "LotArea                       0.0\n",
       "LotFrontage                   0.0\n",
       "LowQualFinSF                  0.0\n",
       "MSSubClass                    0.0\n",
       "MasVnrArea                    0.0\n",
       "MiscVal                       0.0\n",
       "MoSold                        0.0\n",
       "OpenPorchSF                   0.0\n",
       "OverallCond                   0.0\n",
       "OverallQual                   0.0\n",
       "PoolArea                      0.0\n",
       "ScreenPorch                   0.0\n",
       "TotRmsAbvGrd                  0.0\n",
       "TotalBsmtSF                   0.0\n",
       "WoodDeckSF                    0.0\n",
       "YearBuilt                     0.0\n",
       "YearRemodAdd                  0.0\n",
       "YrSold                        0.0"
      ]
     },
     "execution_count": 63,
     "metadata": {},
     "output_type": "execute_result"
    }
   ],
   "source": [
    "# Lets check if missing values are imputed or not\n",
    "num_missing_report = pd.DataFrame((hp[num_cols].isnull().sum())*100/hp.shape[0],columns=['missing_percentage'])\n",
    "num_missing_report"
   ]
  },
  {
   "cell_type": "code",
   "execution_count": 64,
   "metadata": {},
   "outputs": [
    {
     "name": "stdout",
     "output_type": "stream",
     "text": [
      "Shape of dummy matrix:  (2919, 266)\n"
     ]
    },
    {
     "data": {
      "text/html": [
       "<div>\n",
       "<style scoped>\n",
       "    .dataframe tbody tr th:only-of-type {\n",
       "        vertical-align: middle;\n",
       "    }\n",
       "\n",
       "    .dataframe tbody tr th {\n",
       "        vertical-align: top;\n",
       "    }\n",
       "\n",
       "    .dataframe thead th {\n",
       "        text-align: right;\n",
       "    }\n",
       "</style>\n",
       "<table border=\"1\" class=\"dataframe\">\n",
       "  <thead>\n",
       "    <tr style=\"text-align: right;\">\n",
       "      <th></th>\n",
       "      <th>MSZoning_C (all)</th>\n",
       "      <th>MSZoning_FV</th>\n",
       "      <th>MSZoning_RH</th>\n",
       "      <th>MSZoning_RL</th>\n",
       "      <th>MSZoning_RM</th>\n",
       "      <th>Street_Grvl</th>\n",
       "      <th>Street_Pave</th>\n",
       "      <th>Alley_Grvl</th>\n",
       "      <th>Alley_No_Alley_Access</th>\n",
       "      <th>Alley_Pave</th>\n",
       "      <th>...</th>\n",
       "      <th>SaleType_ConLw</th>\n",
       "      <th>SaleType_New</th>\n",
       "      <th>SaleType_Oth</th>\n",
       "      <th>SaleType_WD</th>\n",
       "      <th>SaleCondition_Abnorml</th>\n",
       "      <th>SaleCondition_AdjLand</th>\n",
       "      <th>SaleCondition_Alloca</th>\n",
       "      <th>SaleCondition_Family</th>\n",
       "      <th>SaleCondition_Normal</th>\n",
       "      <th>SaleCondition_Partial</th>\n",
       "    </tr>\n",
       "  </thead>\n",
       "  <tbody>\n",
       "    <tr>\n",
       "      <th>0</th>\n",
       "      <td>0</td>\n",
       "      <td>0</td>\n",
       "      <td>0</td>\n",
       "      <td>1</td>\n",
       "      <td>0</td>\n",
       "      <td>0</td>\n",
       "      <td>1</td>\n",
       "      <td>0</td>\n",
       "      <td>1</td>\n",
       "      <td>0</td>\n",
       "      <td>...</td>\n",
       "      <td>0</td>\n",
       "      <td>0</td>\n",
       "      <td>0</td>\n",
       "      <td>1</td>\n",
       "      <td>0</td>\n",
       "      <td>0</td>\n",
       "      <td>0</td>\n",
       "      <td>0</td>\n",
       "      <td>1</td>\n",
       "      <td>0</td>\n",
       "    </tr>\n",
       "    <tr>\n",
       "      <th>1</th>\n",
       "      <td>0</td>\n",
       "      <td>0</td>\n",
       "      <td>0</td>\n",
       "      <td>1</td>\n",
       "      <td>0</td>\n",
       "      <td>0</td>\n",
       "      <td>1</td>\n",
       "      <td>0</td>\n",
       "      <td>1</td>\n",
       "      <td>0</td>\n",
       "      <td>...</td>\n",
       "      <td>0</td>\n",
       "      <td>0</td>\n",
       "      <td>0</td>\n",
       "      <td>1</td>\n",
       "      <td>0</td>\n",
       "      <td>0</td>\n",
       "      <td>0</td>\n",
       "      <td>0</td>\n",
       "      <td>1</td>\n",
       "      <td>0</td>\n",
       "    </tr>\n",
       "    <tr>\n",
       "      <th>2</th>\n",
       "      <td>0</td>\n",
       "      <td>0</td>\n",
       "      <td>0</td>\n",
       "      <td>1</td>\n",
       "      <td>0</td>\n",
       "      <td>0</td>\n",
       "      <td>1</td>\n",
       "      <td>0</td>\n",
       "      <td>1</td>\n",
       "      <td>0</td>\n",
       "      <td>...</td>\n",
       "      <td>0</td>\n",
       "      <td>0</td>\n",
       "      <td>0</td>\n",
       "      <td>1</td>\n",
       "      <td>0</td>\n",
       "      <td>0</td>\n",
       "      <td>0</td>\n",
       "      <td>0</td>\n",
       "      <td>1</td>\n",
       "      <td>0</td>\n",
       "    </tr>\n",
       "    <tr>\n",
       "      <th>3</th>\n",
       "      <td>0</td>\n",
       "      <td>0</td>\n",
       "      <td>0</td>\n",
       "      <td>1</td>\n",
       "      <td>0</td>\n",
       "      <td>0</td>\n",
       "      <td>1</td>\n",
       "      <td>0</td>\n",
       "      <td>1</td>\n",
       "      <td>0</td>\n",
       "      <td>...</td>\n",
       "      <td>0</td>\n",
       "      <td>0</td>\n",
       "      <td>0</td>\n",
       "      <td>1</td>\n",
       "      <td>1</td>\n",
       "      <td>0</td>\n",
       "      <td>0</td>\n",
       "      <td>0</td>\n",
       "      <td>0</td>\n",
       "      <td>0</td>\n",
       "    </tr>\n",
       "    <tr>\n",
       "      <th>4</th>\n",
       "      <td>0</td>\n",
       "      <td>0</td>\n",
       "      <td>0</td>\n",
       "      <td>1</td>\n",
       "      <td>0</td>\n",
       "      <td>0</td>\n",
       "      <td>1</td>\n",
       "      <td>0</td>\n",
       "      <td>1</td>\n",
       "      <td>0</td>\n",
       "      <td>...</td>\n",
       "      <td>0</td>\n",
       "      <td>0</td>\n",
       "      <td>0</td>\n",
       "      <td>1</td>\n",
       "      <td>0</td>\n",
       "      <td>0</td>\n",
       "      <td>0</td>\n",
       "      <td>0</td>\n",
       "      <td>1</td>\n",
       "      <td>0</td>\n",
       "    </tr>\n",
       "  </tbody>\n",
       "</table>\n",
       "<p>5 rows × 266 columns</p>\n",
       "</div>"
      ],
      "text/plain": [
       "   MSZoning_C (all)  MSZoning_FV  MSZoning_RH  MSZoning_RL  MSZoning_RM  \\\n",
       "0                 0            0            0            1            0   \n",
       "1                 0            0            0            1            0   \n",
       "2                 0            0            0            1            0   \n",
       "3                 0            0            0            1            0   \n",
       "4                 0            0            0            1            0   \n",
       "\n",
       "   Street_Grvl  Street_Pave  Alley_Grvl  Alley_No_Alley_Access  Alley_Pave  \\\n",
       "0            0            1           0                      1           0   \n",
       "1            0            1           0                      1           0   \n",
       "2            0            1           0                      1           0   \n",
       "3            0            1           0                      1           0   \n",
       "4            0            1           0                      1           0   \n",
       "\n",
       "           ...            SaleType_ConLw  SaleType_New  SaleType_Oth  \\\n",
       "0          ...                         0             0             0   \n",
       "1          ...                         0             0             0   \n",
       "2          ...                         0             0             0   \n",
       "3          ...                         0             0             0   \n",
       "4          ...                         0             0             0   \n",
       "\n",
       "   SaleType_WD  SaleCondition_Abnorml  SaleCondition_AdjLand  \\\n",
       "0            1                      0                      0   \n",
       "1            1                      0                      0   \n",
       "2            1                      0                      0   \n",
       "3            1                      1                      0   \n",
       "4            1                      0                      0   \n",
       "\n",
       "   SaleCondition_Alloca  SaleCondition_Family  SaleCondition_Normal  \\\n",
       "0                     0                     0                     1   \n",
       "1                     0                     0                     1   \n",
       "2                     0                     0                     1   \n",
       "3                     0                     0                     0   \n",
       "4                     0                     0                     1   \n",
       "\n",
       "   SaleCondition_Partial  \n",
       "0                      0  \n",
       "1                      0  \n",
       "2                      0  \n",
       "3                      0  \n",
       "4                      0  \n",
       "\n",
       "[5 rows x 266 columns]"
      ]
     },
     "execution_count": 64,
     "metadata": {},
     "output_type": "execute_result"
    }
   ],
   "source": [
    "# Creating Dummies\n",
    "dummy_matrix = pd.get_dummies(hp[cat_cols[:-1]])\n",
    "print(\"Shape of dummy matrix: \",dummy_matrix.shape)\n",
    "dummy_matrix.head()"
   ]
  },
  {
   "cell_type": "code",
   "execution_count": 65,
   "metadata": {},
   "outputs": [
    {
     "data": {
      "text/plain": [
       "(2919, 38)"
      ]
     },
     "execution_count": 65,
     "metadata": {},
     "output_type": "execute_result"
    }
   ],
   "source": [
    "# Removing orignal categorical cols\n",
    "hp.drop(cat_cols[:-1],axis = 1,inplace = True)\n",
    "hp.shape"
   ]
  },
  {
   "cell_type": "code",
   "execution_count": 66,
   "metadata": {},
   "outputs": [
    {
     "data": {
      "text/plain": [
       "(2919, 304)"
      ]
     },
     "execution_count": 66,
     "metadata": {},
     "output_type": "execute_result"
    }
   ],
   "source": [
    "# Concatenating dummies with data\n",
    "hp = pd.concat([hp,dummy_matrix],axis = 1)\n",
    "del dummy_matrix\n",
    "hp.shape"
   ]
  },
  {
   "cell_type": "code",
   "execution_count": 67,
   "metadata": {},
   "outputs": [],
   "source": [
    "hp_train = hp[hp[\"data\"]=='train']\n",
    "hp_test = hp[hp[\"data\"]=='test']"
   ]
  },
  {
   "cell_type": "code",
   "execution_count": 68,
   "metadata": {},
   "outputs": [],
   "source": [
    "del hp_train['data']"
   ]
  },
  {
   "cell_type": "code",
   "execution_count": 69,
   "metadata": {},
   "outputs": [
    {
     "name": "stderr",
     "output_type": "stream",
     "text": [
      "C:\\Users\\NAZ\\Anaconda3\\lib\\site-packages\\ipykernel_launcher.py:1: SettingWithCopyWarning: \n",
      "A value is trying to be set on a copy of a slice from a DataFrame\n",
      "\n",
      "See the caveats in the documentation: http://pandas.pydata.org/pandas-docs/stable/indexing.html#indexing-view-versus-copy\n",
      "  \"\"\"Entry point for launching an IPython kernel.\n"
     ]
    }
   ],
   "source": [
    "hp_test.drop(['data','SalePrice'],axis = 1,inplace = True)"
   ]
  },
  {
   "cell_type": "code",
   "execution_count": 70,
   "metadata": {},
   "outputs": [
    {
     "data": {
      "text/plain": [
       "((1460, 303), (1459, 302))"
      ]
     },
     "execution_count": 70,
     "metadata": {},
     "output_type": "execute_result"
    }
   ],
   "source": [
    "hp_train.shape,hp_test.shape"
   ]
  },
  {
   "cell_type": "code",
   "execution_count": 71,
   "metadata": {
    "scrolled": true
   },
   "outputs": [
    {
     "name": "stderr",
     "output_type": "stream",
     "text": [
      "C:\\Users\\NAZ\\Anaconda3\\lib\\site-packages\\sklearn\\cross_validation.py:41: DeprecationWarning: This module was deprecated in version 0.18 in favor of the model_selection module into which all the refactored classes and functions are moved. Also note that the interface of the new CV iterators are different from that of this module. This module will be removed in 0.20.\n",
      "  \"This module will be removed in 0.20.\", DeprecationWarning)\n"
     ]
    }
   ],
   "source": [
    "# To observe the tentative performance lets first work over entire training data,by splitting them into two parts\n",
    "\n",
    "from sklearn.cross_validation import  train_test_split\n",
    "hp_train_train,hp_train_test = train_test_split(hp_train,test_size = 0.2,random_state = 2)"
   ]
  },
  {
   "cell_type": "code",
   "execution_count": 72,
   "metadata": {},
   "outputs": [],
   "source": [
    "# Separating the predictors and response\n",
    "\n",
    "x_train = hp_train_train.drop(\"SalePrice\",axis = 1)\n",
    "y_train = hp_train_train['SalePrice']\n",
    "\n",
    "x_test = hp_train_test.drop(\"SalePrice\",axis = 1)\n",
    "y_test = hp_train_test['SalePrice']"
   ]
  },
  {
   "cell_type": "markdown",
   "metadata": {},
   "source": [
    "# Basic Linear regression Modelling"
   ]
  },
  {
   "cell_type": "code",
   "execution_count": 73,
   "metadata": {},
   "outputs": [
    {
     "data": {
      "text/plain": [
       "LinearRegression(copy_X=True, fit_intercept=True, n_jobs=1, normalize=False)"
      ]
     },
     "execution_count": 73,
     "metadata": {},
     "output_type": "execute_result"
    }
   ],
   "source": [
    "from sklearn.linear_model import LinearRegression\n",
    "lm = LinearRegression()\n",
    "lm.fit(x_train,y_train)"
   ]
  },
  {
   "cell_type": "code",
   "execution_count": 74,
   "metadata": {},
   "outputs": [
    {
     "data": {
      "text/plain": [
       "-296469.5254747861"
      ]
     },
     "execution_count": 74,
     "metadata": {},
     "output_type": "execute_result"
    }
   ],
   "source": [
    "lm.intercept_"
   ]
  },
  {
   "cell_type": "code",
   "execution_count": 75,
   "metadata": {},
   "outputs": [
    {
     "data": {
      "text/plain": [
       "[('MSSubClass', 11.611285825137847),\n",
       " ('LotFrontage', 106.14970236082291),\n",
       " ('LotArea', 0.8660643753267081),\n",
       " ('OverallQual', 6671.35175720972),\n",
       " ('OverallCond', 5487.841359585948),\n",
       " ('YearBuilt', 413.38287503071996),\n",
       " ('YearRemodAdd', 145.6517202040445),\n",
       " ('MasVnrArea', 22.951186233728606),\n",
       " ('BsmtFinSF1', 19.98386844902882),\n",
       " ('BsmtFinSF2', 8.223646340507798),\n",
       " ('BsmtUnfSF', -4.960773920609427),\n",
       " ('TotalBsmtSF', 23.246806952575753),\n",
       " ('1stFlrSF', 16.36529106958551),\n",
       " ('2ndFlrSF', 34.663618462119075),\n",
       " ('LowQualFinSF', -15.95437697909908),\n",
       " ('GrLivArea', 35.07457943879217),\n",
       " ('BsmtFullBath', -275.26263782430397),\n",
       " ('BsmtHalfBath', 1891.615867710831),\n",
       " ('FullBath', 2230.7213312124286),\n",
       " ('HalfBath', -1382.6366017290686),\n",
       " ('BedroomAbvGr', -4947.542461478004),\n",
       " ('KitchenAbvGr', -15225.328318612017),\n",
       " ('TotRmsAbvGrd', 1897.1915087655098),\n",
       " ('Fireplaces', 4772.478538731119),\n",
       " ('GarageYrBlt', -55.53589755726364),\n",
       " ('GarageCars', 6528.358977840305),\n",
       " ('GarageArea', 3.6518843755882777),\n",
       " ('WoodDeckSF', 13.402889270682294),\n",
       " ('OpenPorchSF', 19.9631472826797),\n",
       " ('EnclosedPorch', 25.6989735367345),\n",
       " ('3SsnPorch', 19.665049444805604),\n",
       " ('ScreenPorch', 45.757894568465275),\n",
       " ('PoolArea', 361.55194950594034),\n",
       " ('MiscVal', 4.0914755186959155),\n",
       " ('MoSold', -362.3652379580371),\n",
       " ('YrSold', -506.30198708900565),\n",
       " ('SalePrice', -19888.869084047405),\n",
       " ('data', 18837.924228138905),\n",
       " ('MSZoning_C (all)', -3448.71833602247),\n",
       " ('MSZoning_FV', 4920.805244634001),\n",
       " ('MSZoning_RH', -421.1420489579778),\n",
       " ('MSZoning_RL', -13951.057157598429),\n",
       " ('MSZoning_RM', 13951.057157663354),\n",
       " ('Street_Grvl', -659.4104632142106),\n",
       " ('Street_Pave', 3301.1636297464684),\n",
       " ('Alley_Grvl', -2641.753165065019),\n",
       " ('Alley_No_Alley_Access', 1610.2059099398525),\n",
       " ('Alley_Pave', -880.0918217402963),\n",
       " ('LotShape_IR1', -2767.3096848206847),\n",
       " ('LotShape_IR2', 2037.1955944280924),\n",
       " ('LotShape_IR3', 6269.641013997366),\n",
       " ('LotShape_Reg', 6883.311244353639),\n",
       " ('LandContour_Bnk', -15353.791269395848),\n",
       " ('LandContour_HLS', 2200.839010920057),\n",
       " ('LandContour_Low', 14733.8382894156),\n",
       " ('LandContour_Lvl', -14733.838289455827),\n",
       " ('Utilities_AllPub', -246.9722150777345),\n",
       " ('Utilities_NoSeWa', 9760.646530073669),\n",
       " ('LotConfig_Corner', -6145.025046450208),\n",
       " ('LotConfig_CulDSac', -2061.1733952269788),\n",
       " ('LotConfig_FR2', -1307.4758739053711),\n",
       " ('LotConfig_FR3', 13651.673520855462),\n",
       " ('LotConfig_Inside', 18150.82920659855),\n",
       " ('LandSlope_Gtl', -31802.502727438707),\n",
       " ('LandSlope_Mod', 4777.498463736089),\n",
       " ('LandSlope_Sev', 26085.796820712196),\n",
       " ('Neighborhood_Blmngtn', 8999.00340072916),\n",
       " ('Neighborhood_Blueste', 429.42154073262606),\n",
       " ('Neighborhood_BrDale', -20515.868111503118),\n",
       " ('Neighborhood_BrkSide', -9326.472203896197),\n",
       " ('Neighborhood_ClearCr', 11808.902634693328),\n",
       " ('Neighborhood_CollgCr', -12900.878853099422),\n",
       " ('Neighborhood_Crawfor', -8703.371187820396),\n",
       " ('Neighborhood_Edwards', -8269.564348940472),\n",
       " ('Neighborhood_Gilbert', 9719.923341398711),\n",
       " ('Neighborhood_IDOTRR', -16002.803315798925),\n",
       " ('Neighborhood_MeadowV', -12519.714040439456),\n",
       " ('Neighborhood_Mitchel', 11808.790425968402),\n",
       " ('Neighborhood_NAmes', -13096.877176071866),\n",
       " ('Neighborhood_NPkVill', 20614.874588929302),\n",
       " ('Neighborhood_NWAmes', 14700.059563557725),\n",
       " ('Neighborhood_NoRidge', -8097.578515092551),\n",
       " ('Neighborhood_NridgHt', -7334.928013256809),\n",
       " ('Neighborhood_OldTown', -4981.168205658655),\n",
       " ('Neighborhood_SWISU', -4503.38937759938),\n",
       " ('Neighborhood_Sawyer', -3844.005745589843),\n",
       " ('Neighborhood_SawyerW', 32769.935997033506),\n",
       " ('Neighborhood_Somerst', -7135.739854136281),\n",
       " ('Neighborhood_StoneBr', -4481.84783116553),\n",
       " ('Neighborhood_Timber', -4236.74220656617),\n",
       " ('Neighborhood_Veenker', 2664.4605500888847),\n",
       " ('Condition1_Artery', 11719.328139835297),\n",
       " ('Condition1_Feedr', -3027.1843732386537),\n",
       " ('Condition1_Norm', 14345.54123769865),\n",
       " ('Condition1_PosA', -20433.47336356209),\n",
       " ('Condition1_PosN', 5939.296267335683),\n",
       " ('Condition1_RRAe', -6836.10148640692),\n",
       " ('Condition1_RRAn', -135.1247651192372),\n",
       " ('Condition1_RRNe', 75069.24201641839),\n",
       " ('Condition1_RRNn', 67773.54377928675),\n",
       " ('Condition2_Artery', 73214.45579761801),\n",
       " ('Condition2_Feedr', 50310.279127540074),\n",
       " ('Condition2_Norm', -387158.06291909417),\n",
       " ('Condition2_PosA', -19058.282706564343),\n",
       " ('Condition2_PosN', 58202.95586022026),\n",
       " ('Condition2_RRAe', 81645.86904470874),\n",
       " ('Condition2_RRAn', 12034.956410921857),\n",
       " ('Condition2_RRNn', 6524.376268819067),\n",
       " ('BldgType_1Fam', -719.1926335100926),\n",
       " ('BldgType_2fmCon', -11253.980152686217),\n",
       " ('BldgType_Duplex', -6586.159892609379),\n",
       " ('BldgType_Twnhs', 4586.444512215878),\n",
       " ('BldgType_TwnhsE', 15180.235745208503),\n",
       " ('HouseStyle_1.5Fin', 11629.483506197512),\n",
       " ('HouseStyle_1.5Unf', -23047.137568564965),\n",
       " ('HouseStyle_1Story', -10938.846509369512),\n",
       " ('HouseStyle_2.5Fin', -2802.9178711919003),\n",
       " ('HouseStyle_2.5Unf', 2298.6826994272155),\n",
       " ('HouseStyle_2Story', 3094.0554872421003),\n",
       " ('HouseStyle_SFoyer', -7983.962646172665),\n",
       " ('HouseStyle_SLvl', -19025.453392437616),\n",
       " ('RoofStyle_Flat', -17330.42851743797),\n",
       " ('RoofStyle_Gable', -20501.38963405318),\n",
       " ('RoofStyle_Gambrel', -9692.32839344633),\n",
       " ('RoofStyle_Hip', 74533.56258392181),\n",
       " ('RoofStyle_Mansard', -640432.1716574576),\n",
       " ('RoofStyle_Shed', 70331.68469417687),\n",
       " ('RoofMatl_ClyTile', 151666.04107157822),\n",
       " ('RoofMatl_CompShg', 122401.0224037847),\n",
       " ('RoofMatl_Membran', 51422.70489634345),\n",
       " ('RoofMatl_Metal', 48142.58394904591),\n",
       " ('RoofMatl_Roll', 62138.27771895336),\n",
       " ('RoofMatl_Tar&Grv', 134329.85692371556),\n",
       " ('RoofMatl_WdShake', 15300.079989857),\n",
       " ('RoofMatl_WdShngl', -18397.929883894805),\n",
       " ('Exterior1st_AsbShng', 1279.5830572841733),\n",
       " ('Exterior1st_AsphShn', 16718.562272034953),\n",
       " ('Exterior1st_BrkComm', -4707.771093355362),\n",
       " ('Exterior1st_BrkFace', -3635.8885278145162),\n",
       " ('Exterior1st_CBlock', -2053.8139302218065),\n",
       " ('Exterior1st_CemntBd', 7.275957614183426e-11),\n",
       " ('Exterior1st_HdBoard', -344.47102546475156),\n",
       " ('Exterior1st_ImStucc', 202.89333516354978),\n",
       " ('Exterior1st_MetalSd', -10562.60904567079),\n",
       " ('Exterior1st_Plywood', 2603.9461606317395),\n",
       " ('Exterior1st_Stone', 2264.85433605341),\n",
       " ('Exterior1st_Stucco', -2126.455202748545),\n",
       " ('Exterior1st_VinylSd', 3459.0195585240444),\n",
       " ('Exterior1st_Wd Sdng', -5312.830449151042),\n",
       " ('Exterior1st_WdShing', 6670.056146431184),\n",
       " ('Exterior2nd_AsbShng', 7835.33487194396),\n",
       " ('Exterior2nd_AsphShn', 1523.4804447304632),\n",
       " ('Exterior2nd_Brk Cmn', -4707.771093357633),\n",
       " ('Exterior2nd_BrkFace', 2412.154340054546),\n",
       " ('Exterior2nd_CBlock', 3138.851959068524),\n",
       " ('Exterior2nd_CmentBd', 3152.835358373378),\n",
       " ('Exterior2nd_HdBoard', 5076.056916584577),\n",
       " ('Exterior2nd_ImStucc', -28483.644725936716),\n",
       " ('Exterior2nd_MetalSd', -206.40902806549255),\n",
       " ('Exterior2nd_Other', -5414.882658087099),\n",
       " ('Exterior2nd_Plywood', 10767.768800127553),\n",
       " ('Exterior2nd_Stone', 2297.7720750104027),\n",
       " ('Exterior2nd_Stucco', 3171.557630133521),\n",
       " ('Exterior2nd_VinylSd', -1920.330587654658),\n",
       " ('Exterior2nd_Wd Sdng', -7255.54308962988),\n",
       " ('Exterior2nd_Wd Shng', -1464.4552333008107),\n",
       " ('MasVnrType_BrkCmn', 2152.546919397575),\n",
       " ('MasVnrType_BrkFace', 6567.451403508413),\n",
       " ('MasVnrType_None', 21108.77764490124),\n",
       " ('MasVnrType_Stone', -1449.4577322443326),\n",
       " ('ExterQual_Ex', -9040.875519085517),\n",
       " ('ExterQual_Fa', -10618.444393560589),\n",
       " ('ExterQual_Gd', 50310.27912753941),\n",
       " ('ExterQual_TA', -13087.647697415769),\n",
       " ('ExterCond_Ex', -16723.506143184048),\n",
       " ('ExterCond_Fa', -7217.299725890703),\n",
       " ('ExterCond_Gd', -13281.825560968722),\n",
       " ('ExterCond_Po', 4777.490399227943),\n",
       " ('ExterCond_TA', 4552.391657964756),\n",
       " ('Foundation_BrkTil', 6713.501635049428),\n",
       " ('Foundation_CBlock', -6962.76742092749),\n",
       " ('Foundation_PConc', 4238.052333428709),\n",
       " ('Foundation_Slab', -13318.668604740104),\n",
       " ('Foundation_Stone', 2835.582844193018),\n",
       " ('Foundation_Wood', 5006.4241658446645),\n",
       " ('BsmtQual_Ex', -6708.745557571845),\n",
       " ('BsmtQual_Fa', 2302.9605551077143),\n",
       " ('BsmtQual_Gd', -3436.2220078938744),\n",
       " ('BsmtQual_NoBasement', -17491.718897186627),\n",
       " ('BsmtQual_TA', -17923.78340915438),\n",
       " ('BsmtCond_Fa', 2302.9605552456624),\n",
       " ('BsmtCond_Gd', 49301.852366044855),\n",
       " ('BsmtCond_NoBasement', -16189.31061455594),\n",
       " ('BsmtCond_Po', 297.188851687543),\n",
       " ('BsmtCond_TA', 19249.78011643397),\n",
       " ('BsmtExposure_Av', -3116.9047337494167),\n",
       " ('BsmtExposure_Gd', -4388.553242026389),\n",
       " ('BsmtExposure_Mn', -12041.51099212866),\n",
       " ('BsmtExposure_No', -1073.3606089412683),\n",
       " ('BsmtExposure_NoBasement', 725.2874127698079),\n",
       " ('BsmtFinType1_ALQ', 2399.6996551549473),\n",
       " ('BsmtFinType1_BLQ', -5264.541637636369),\n",
       " ('BsmtFinType1_GLQ', 2302.9605551388568),\n",
       " ('BsmtFinType1_LwQ', -3084.496540293353),\n",
       " ('BsmtFinType1_NoBasement', 3994.45116349476),\n",
       " ('BsmtFinType1_Rec', 6921.936680416811),\n",
       " ('BsmtFinType1_Unf', -818.7733825887651),\n",
       " ('BsmtFinType2_ALQ', 6800.306661700299),\n",
       " ('BsmtFinType2_BLQ', -7017.444255941013),\n",
       " ('BsmtFinType2_GLQ', 2302.960555138558),\n",
       " ('BsmtFinType2_LwQ', -6339.811281624536),\n",
       " ('BsmtFinType2_NoBasement', -1849.1749772088253),\n",
       " ('BsmtFinType2_Rec', -600.9445690910521),\n",
       " ('BsmtFinType2_Unf', 6283.843542570765),\n",
       " ('Heating_Floor', 665.7847924313452),\n",
       " ('Heating_GasA', -5537.520799654745),\n",
       " ('Heating_GasW', -13763.2022003544),\n",
       " ('Heating_Grav', 12952.039234306409),\n",
       " ('Heating_OthW', -1077.5946928579299),\n",
       " ('Heating_Wall', 2955.4599274334346),\n",
       " ('HeatingQC_Ex', -3893.810254985286),\n",
       " ('HeatingQC_Fa', 5487.440486142528),\n",
       " ('HeatingQC_Gd', -3471.4954660093163),\n",
       " ('HeatingQC_Po', -739.6625329756642),\n",
       " ('HeatingQC_TA', 739.6625327913202),\n",
       " ('CentralAir_N', 2410.598075663032),\n",
       " ('CentralAir_Y', 3318.909639944457),\n",
       " ('Electrical_FuseA', -4909.296775347008),\n",
       " ('Electrical_FuseF', -5.820766091346741e-11),\n",
       " ('Electrical_FuseP', -820.210939785761),\n",
       " ('Electrical_Mix', 13739.27221731251),\n",
       " ('Electrical_SBrkr', -979.6649844166577),\n",
       " ('KitchenQual_Ex', -6917.674071775271),\n",
       " ('KitchenQual_Fa', -5841.93316113796),\n",
       " ('KitchenQual_Gd', -987.2463921845651),\n",
       " ('KitchenQual_TA', 6528.935719116593),\n",
       " ('Functional_Maj1', 9767.497272859213),\n",
       " ('Functional_Maj2', 15811.9036668669),\n",
       " ('Functional_Min1', -3295.8037896794544),\n",
       " ('Functional_Min2', -51915.48825486521),\n",
       " ('Functional_Mod', 24090.2017779614),\n",
       " ('Functional_Sev', 2419.811834296618),\n",
       " ('Functional_Typ', -7507.243206511709),\n",
       " ('FireplaceQu_Ex', -2557.0242301903522),\n",
       " ('FireplaceQu_Fa', 2643.32775691068),\n",
       " ('FireplaceQu_Gd', 8411.478918469738),\n",
       " ('FireplaceQu_No_Fireplace', -3410.351072114799),\n",
       " ('FireplaceQu_Po', -19786.8043817661),\n",
       " ('FireplaceQu_TA', -1054.0590636637985),\n",
       " ('GarageType_2Types', -317.4492292886688),\n",
       " ('GarageType_Attchd', -1548.9193356050398),\n",
       " ('GarageType_Basment', 15096.004298077452),\n",
       " ('GarageType_BuiltIn', 4764.117892299979),\n",
       " ('GarageType_CarPort', 2847.109819559146),\n",
       " ('GarageType_Detchd', -907.8977310912866),\n",
       " ('GarageType_NoGarage', 2847.109819559146),\n",
       " ('GarageFinish_Fin', -1550.5569241497908),\n",
       " ('GarageFinish_NoGarage', -388.65516431465574),\n",
       " ('GarageFinish_RFn', 5006.507354715004),\n",
       " ('GarageFinish_Unf', -7284.6130049336325),\n",
       " ('GarageQual_Ex', 5793.4873816895015),\n",
       " ('GarageQual_Fa', 2847.1098196146136),\n",
       " ('GarageQual_Gd', -8440.687293143747),\n",
       " ('GarageQual_NoGarage', 2078.1957417538556),\n",
       " ('GarageQual_Po', 5006.50735471708),\n",
       " ('GarageQual_TA', -4682.996224126211),\n",
       " ('GarageCond_Ex', -1691.5183623770345),\n",
       " ('GarageCond_Fa', 2847.109819563339),\n",
       " ('GarageCond_Gd', 118.67160219763996),\n",
       " ('GarageCond_NoGarage', -1597.7741902415366),\n",
       " ('GarageCond_Po', 1861.1280122897542),\n",
       " ('GarageCond_TA', -2893.340990166841),\n",
       " ('PavedDrive_N', 1032.2129779102795),\n",
       " ('PavedDrive_P', 98792.98625681383),\n",
       " ('PavedDrive_Y', -111231.11338515306),\n",
       " ('PoolQC_Ex', -79667.65713505102),\n",
       " ('PoolQC_Fa', 92105.784263416),\n",
       " ('PoolQC_Gd', -5697.000267420187),\n",
       " ('PoolQC_No_Pool', 5974.583109037028),\n",
       " ('Fence_GdPrv', 3136.202088587535),\n",
       " ('Fence_GdWo', -5903.562943251784),\n",
       " ('Fence_MnPrv', 2489.7780127861893),\n",
       " ('Fence_MnWw', -49923.03218391717),\n",
       " ('Fence_No_Fence', 14065.442954957794),\n",
       " ('MiscFeature_Gar2', 34230.636523852394),\n",
       " ('MiscFeature_No_MiscFeature', 14457.16730717337),\n",
       " ('MiscFeature_Othr', -12830.214601998015),\n",
       " ('MiscFeature_Shed', -10202.816980656404),\n",
       " ('MiscFeature_TenC', 8338.785080736889),\n",
       " ('SaleType_COD', 16692.894627253452),\n",
       " ('SaleType_CWD', 276.78761067103494),\n",
       " ('SaleType_Con', -7570.245804054215),\n",
       " ('SaleType_ConLD', -8448.052295809111),\n",
       " ('SaleType_ConLI', 4684.321104185004),\n",
       " ('SaleType_ConLw', 4149.889172328781),\n",
       " ('SaleType_New', -7921.562514521566),\n",
       " ('SaleType_Oth', -887.2551462434145),\n",
       " ('SaleType_WD', 674.4378816368585),\n",
       " ('SaleCondition_Abnorml', -307.56334005768156),\n",
       " ('SaleCondition_AdjLand', -6768.0161806236765),\n",
       " ('SaleCondition_Alloca', 4182.405634824032),\n",
       " ('SaleCondition_Family', 3105.991150463979)]"
      ]
     },
     "execution_count": 75,
     "metadata": {},
     "output_type": "execute_result"
    }
   ],
   "source": [
    "# Observing feature coefficients, this gives us each feature dependencies over target variable\n",
    "list(zip(hp.columns,lm.coef_))"
   ]
  },
  {
   "cell_type": "code",
   "execution_count": 76,
   "metadata": {},
   "outputs": [],
   "source": [
    "p_test = lm.predict(x_test)"
   ]
  },
  {
   "cell_type": "markdown",
   "metadata": {},
   "source": [
    "### Performance Measure"
   ]
  },
  {
   "cell_type": "code",
   "execution_count": 77,
   "metadata": {},
   "outputs": [
    {
     "name": "stdout",
     "output_type": "stream",
     "text": [
      "Mean_absolute_error:  19251.392477943875\n"
     ]
    }
   ],
   "source": [
    "from sklearn.metrics import mean_absolute_error,r2_score\n",
    "print(\"Mean_absolute_error: \",mean_absolute_error(y_test,p_test))"
   ]
  },
  {
   "cell_type": "code",
   "execution_count": 78,
   "metadata": {
    "scrolled": true
   },
   "outputs": [
    {
     "name": "stdout",
     "output_type": "stream",
     "text": [
      "Root_mean_square_error :  37607.52732126701\n"
     ]
    }
   ],
   "source": [
    "residual = p_test - y_test\n",
    "rmse = np.sqrt(np.dot(residual,residual)/len(p_test))\n",
    "print(\"Root_mean_square_error : \",rmse)"
   ]
  },
  {
   "cell_type": "code",
   "execution_count": 79,
   "metadata": {},
   "outputs": [
    {
     "name": "stdout",
     "output_type": "stream",
     "text": [
      "R-Square of the model :  0.786428655695136\n"
     ]
    }
   ],
   "source": [
    "r_square = r2_score(y_test,p_test)\n",
    "print(\"R-Square of the model : \",r_square)"
   ]
  },
  {
   "cell_type": "code",
   "execution_count": 80,
   "metadata": {},
   "outputs": [
    {
     "data": {
      "text/plain": [
       "LinearRegression(copy_X=True, fit_intercept=True, n_jobs=1, normalize=False)"
      ]
     },
     "execution_count": 80,
     "metadata": {},
     "output_type": "execute_result"
    }
   ],
   "source": [
    "# Now let us build the model on entire training data\n",
    "x_train = hp_train.drop(\"SalePrice\",axis = 1)\n",
    "y_train = hp_train[\"SalePrice\"]\n",
    "\n",
    "lm.fit(x_train,y_train)"
   ]
  },
  {
   "cell_type": "code",
   "execution_count": 81,
   "metadata": {},
   "outputs": [
    {
     "data": {
      "text/plain": [
       "(1459, 1)"
      ]
     },
     "execution_count": 81,
     "metadata": {},
     "output_type": "execute_result"
    }
   ],
   "source": [
    "p_test = lm.predict(hp_test)\n",
    "p_test = pd.DataFrame(p_test)\n",
    "p_test.shape"
   ]
  },
  {
   "cell_type": "code",
   "execution_count": 82,
   "metadata": {},
   "outputs": [],
   "source": [
    "p_test.to_csv(\"_Simple_Linear_regression.csv\",index= False)"
   ]
  },
  {
   "cell_type": "markdown",
   "metadata": {},
   "source": [
    "# Linear regression modelling using Ridge regularisation"
   ]
  },
  {
   "cell_type": "code",
   "execution_count": 83,
   "metadata": {
    "scrolled": true
   },
   "outputs": [],
   "source": [
    "# To observe the tentative performance lets first work over entire training data,by splitting them into two parts\n",
    "\n",
    "from sklearn.cross_validation import  train_test_split\n",
    "hp_train_train,hp_train_test = train_test_split(hp_train,test_size = 0.2,random_state = 2)"
   ]
  },
  {
   "cell_type": "code",
   "execution_count": 84,
   "metadata": {},
   "outputs": [],
   "source": [
    "# Separating the predictors and response\n",
    "\n",
    "x_train = hp_train_train.drop(\"SalePrice\",axis = 1)\n",
    "y_train = hp_train_train['SalePrice']\n",
    "\n",
    "x_test = hp_train_test.drop(\"SalePrice\",axis = 1)\n",
    "y_test = hp_train_test['SalePrice']"
   ]
  },
  {
   "cell_type": "code",
   "execution_count": 85,
   "metadata": {},
   "outputs": [],
   "source": [
    "from sklearn.linear_model import Ridge\n",
    "from sklearn.model_selection import GridSearchCV"
   ]
  },
  {
   "cell_type": "code",
   "execution_count": 86,
   "metadata": {},
   "outputs": [
    {
     "data": {
      "text/plain": [
       "GridSearchCV(cv=10, error_score='raise',\n",
       "       estimator=Ridge(alpha=1.0, copy_X=True, fit_intercept=True, max_iter=None,\n",
       "   normalize=False, random_state=None, solver='auto', tol=0.001),\n",
       "       fit_params=None, iid=True, n_jobs=1,\n",
       "       param_grid={'alpha': array([25.     , 25.10101, ..., 34.89899, 35.     ])},\n",
       "       pre_dispatch='2*n_jobs', refit=True, return_train_score=True,\n",
       "       scoring='neg_mean_absolute_error', verbose=0)"
      ]
     },
     "execution_count": 86,
     "metadata": {},
     "output_type": "execute_result"
    }
   ],
   "source": [
    "# Hyperparameter tuning\n",
    "\n",
    "lambdas = np.linspace(25,35,100)\n",
    "params = {'alpha':lambdas}\n",
    "\n",
    "model = Ridge(fit_intercept = True)\n",
    "grid_search = GridSearchCV(model,param_grid=params,cv = 10,scoring = 'neg_mean_absolute_error',return_train_score=True)\n",
    "grid_search.fit(x_train,y_train)"
   ]
  },
  {
   "cell_type": "code",
   "execution_count": 87,
   "metadata": {},
   "outputs": [
    {
     "data": {
      "text/plain": [
       "Ridge(alpha=32.474747474747474, copy_X=True, fit_intercept=True,\n",
       "   max_iter=None, normalize=False, random_state=None, solver='auto',\n",
       "   tol=0.001)"
      ]
     },
     "execution_count": 87,
     "metadata": {},
     "output_type": "execute_result"
    }
   ],
   "source": [
    "grid_search.best_estimator_"
   ]
  },
  {
   "cell_type": "code",
   "execution_count": 88,
   "metadata": {},
   "outputs": [
    {
     "name": "stdout",
     "output_type": "stream",
     "text": [
      "Model with rank: 1\n",
      "Mean validation score: -18731.662 (std: 4081.410)\n",
      "Parameters: {'alpha': 32.474747474747474}\n",
      "\n",
      "Model with rank: 2\n",
      "Mean validation score: -18731.672 (std: 4082.081)\n",
      "Parameters: {'alpha': 32.57575757575758}\n",
      "\n",
      "Model with rank: 3\n",
      "Mean validation score: -18731.685 (std: 4082.744)\n",
      "Parameters: {'alpha': 32.676767676767675}\n",
      "\n",
      "Model with rank: 4\n",
      "Mean validation score: -18731.692 (std: 4089.949)\n",
      "Parameters: {'alpha': 33.78787878787879}\n",
      "\n",
      "Model with rank: 5\n",
      "Mean validation score: -18731.694 (std: 4083.406)\n",
      "Parameters: {'alpha': 32.77777777777778}\n",
      "\n",
      "Model with rank: 6\n",
      "Mean validation score: -18731.700 (std: 4084.066)\n",
      "Parameters: {'alpha': 32.878787878787875}\n",
      "\n"
     ]
    }
   ],
   "source": [
    "# The output of cv_results are very extensive, to get a short and sweet outcome\n",
    "# we will use the function provided in the documentation of scikitlearn\n",
    "# https://scikit-learn.org/stable/auto_examples/model_selection/plot_randomized_search.html\n",
    "\n",
    "def report(results, n_top=3):\n",
    "    for i in range(1, n_top + 1):\n",
    "        candidates = np.flatnonzero(results['rank_test_score'] == i)\n",
    "        for candidate in candidates:\n",
    "            print(\"Model with rank: {0}\".format(i))\n",
    "            print(\"Mean validation score: {0:.3f} (std: {1:.3f})\".format(\n",
    "                  results['mean_test_score'][candidate],\n",
    "                  results['std_test_score'][candidate]))\n",
    "            print(\"Parameters: {0}\".format(results['params'][candidate]))\n",
    "            print(\"\")\n",
    "            \n",
    "report(grid_search.cv_results_,6)"
   ]
  },
  {
   "cell_type": "code",
   "execution_count": 89,
   "metadata": {},
   "outputs": [],
   "source": [
    "p_test = grid_search.predict(x_test)"
   ]
  },
  {
   "cell_type": "markdown",
   "metadata": {},
   "source": [
    "### Performance Measure"
   ]
  },
  {
   "cell_type": "code",
   "execution_count": 90,
   "metadata": {},
   "outputs": [
    {
     "name": "stdout",
     "output_type": "stream",
     "text": [
      "Ridge_mean_absolute_error : 16572.757479584183\n"
     ]
    }
   ],
   "source": [
    "from sklearn.metrics import mean_absolute_error\n",
    "print(\"Ridge_mean_absolute_error :\",mean_absolute_error(y_test,p_test))"
   ]
  },
  {
   "cell_type": "code",
   "execution_count": 91,
   "metadata": {
    "scrolled": true
   },
   "outputs": [
    {
     "name": "stdout",
     "output_type": "stream",
     "text": [
      "Ridge_Root_mean_square_error :  25557.481977836378\n"
     ]
    }
   ],
   "source": [
    "residual = p_test - y_test\n",
    "rmse = np.sqrt(np.dot(residual,residual)/len(p_test))\n",
    "print(\"Ridge_Root_mean_square_error : \",rmse)"
   ]
  },
  {
   "cell_type": "code",
   "execution_count": 92,
   "metadata": {},
   "outputs": [
    {
     "name": "stdout",
     "output_type": "stream",
     "text": [
      "Ridge_R-Square of the model :  0.9013653407990332\n"
     ]
    }
   ],
   "source": [
    "r_square = r2_score(y_test,p_test)\n",
    "print(\"Ridge_R-Square of the model : \",r_square)"
   ]
  },
  {
   "cell_type": "code",
   "execution_count": 93,
   "metadata": {},
   "outputs": [
    {
     "data": {
      "text/plain": [
       "GridSearchCV(cv=10, error_score='raise',\n",
       "       estimator=Ridge(alpha=1.0, copy_X=True, fit_intercept=True, max_iter=None,\n",
       "   normalize=False, random_state=None, solver='auto', tol=0.001),\n",
       "       fit_params=None, iid=True, n_jobs=1,\n",
       "       param_grid={'alpha': array([25.     , 25.10101, ..., 34.89899, 35.     ])},\n",
       "       pre_dispatch='2*n_jobs', refit=True, return_train_score=True,\n",
       "       scoring='neg_mean_absolute_error', verbose=0)"
      ]
     },
     "execution_count": 93,
     "metadata": {},
     "output_type": "execute_result"
    }
   ],
   "source": [
    "# Now let us build the model on entire training data\n",
    "x_train = hp_train.drop(\"SalePrice\",axis = 1)\n",
    "y_train = hp_train[\"SalePrice\"]\n",
    "\n",
    "grid_search.fit(x_train,y_train)"
   ]
  },
  {
   "cell_type": "code",
   "execution_count": 94,
   "metadata": {},
   "outputs": [
    {
     "data": {
      "text/plain": [
       "(1459, 1)"
      ]
     },
     "execution_count": 94,
     "metadata": {},
     "output_type": "execute_result"
    }
   ],
   "source": [
    "p_test = grid_search.predict(hp_test)\n",
    "p_test = pd.DataFrame(p_test)\n",
    "p_test.shape"
   ]
  },
  {
   "cell_type": "code",
   "execution_count": 95,
   "metadata": {},
   "outputs": [],
   "source": [
    "p_test.to_csv(\"Ridge_Linear_regression.csv\",index= False)"
   ]
  },
  {
   "cell_type": "markdown",
   "metadata": {},
   "source": [
    "# Linear regression modelling using Lasso regularisation\n"
   ]
  },
  {
   "cell_type": "code",
   "execution_count": 96,
   "metadata": {
    "scrolled": true
   },
   "outputs": [],
   "source": [
    "# To observe the tentative performance lets first work over entire training data,by splitting them into two parts\n",
    "\n",
    "from sklearn.cross_validation import  train_test_split\n",
    "hp_train_train,hp_train_test = train_test_split(hp_train,test_size = 0.2,random_state = 2)"
   ]
  },
  {
   "cell_type": "code",
   "execution_count": 97,
   "metadata": {},
   "outputs": [],
   "source": [
    "# Separating the predictors and response\n",
    "\n",
    "x_train = hp_train_train.drop(\"SalePrice\",axis = 1)\n",
    "y_train = hp_train_train['SalePrice']\n",
    "\n",
    "x_test = hp_train_test.drop(\"SalePrice\",axis = 1)\n",
    "y_test = hp_train_test['SalePrice']"
   ]
  },
  {
   "cell_type": "code",
   "execution_count": 98,
   "metadata": {},
   "outputs": [],
   "source": [
    "from sklearn.linear_model import Lasso\n",
    "from sklearn.model_selection import GridSearchCV"
   ]
  },
  {
   "cell_type": "code",
   "execution_count": 99,
   "metadata": {},
   "outputs": [
    {
     "data": {
      "text/plain": [
       "GridSearchCV(cv=10, error_score='raise',\n",
       "       estimator=Lasso(alpha=1.0, copy_X=True, fit_intercept=True, max_iter=1000,\n",
       "   normalize=False, positive=False, precompute=False, random_state=None,\n",
       "   selection='cyclic', tol=0.001, warm_start=False),\n",
       "       fit_params=None, iid=True, n_jobs=1,\n",
       "       param_grid={'alpha': array([50.11872, 50.3524 , ..., 79.06418, 79.43282])},\n",
       "       pre_dispatch='2*n_jobs', refit=True, return_train_score=True,\n",
       "       scoring='neg_mean_absolute_error', verbose=0)"
      ]
     },
     "execution_count": 99,
     "metadata": {},
     "output_type": "execute_result"
    }
   ],
   "source": [
    "# Hyperparameter tuning\n",
    "\n",
    "lambdas = np.logspace(1.7,1.9,100)\n",
    "params = {'alpha':lambdas}\n",
    "\n",
    "model = Lasso(fit_intercept = True,tol=0.001)\n",
    "grid_search = GridSearchCV(model,param_grid=params,cv = 10,scoring = 'neg_mean_absolute_error',return_train_score=True)\n",
    "grid_search.fit(x_train,y_train)"
   ]
  },
  {
   "cell_type": "code",
   "execution_count": 100,
   "metadata": {},
   "outputs": [
    {
     "data": {
      "text/plain": [
       "Lasso(alpha=53.49126004338568, copy_X=True, fit_intercept=True, max_iter=1000,\n",
       "   normalize=False, positive=False, precompute=False, random_state=None,\n",
       "   selection='cyclic', tol=0.001, warm_start=False)"
      ]
     },
     "execution_count": 100,
     "metadata": {},
     "output_type": "execute_result"
    }
   ],
   "source": [
    "grid_search.best_estimator_"
   ]
  },
  {
   "cell_type": "code",
   "execution_count": 101,
   "metadata": {},
   "outputs": [
    {
     "name": "stdout",
     "output_type": "stream",
     "text": [
      "Model with rank: 1\n",
      "Mean validation score: -16923.704 (std: 3857.289)\n",
      "Parameters: {'alpha': 53.49126004338568}\n",
      "\n",
      "Model with rank: 2\n",
      "Mean validation score: -16923.713 (std: 3859.339)\n",
      "Parameters: {'alpha': 53.740664270855405}\n",
      "\n",
      "Model with rank: 3\n",
      "Mean validation score: -16923.737 (std: 3861.402)\n",
      "Parameters: {'alpha': 53.99123135125903}\n",
      "\n",
      "Model with rank: 4\n",
      "Mean validation score: -16923.763 (std: 3863.523)\n",
      "Parameters: {'alpha': 54.24296670642505}\n",
      "\n",
      "Model with rank: 5\n",
      "Mean validation score: -16923.776 (std: 3855.336)\n",
      "Parameters: {'alpha': 53.243013272183454}\n",
      "\n",
      "Model with rank: 6\n",
      "Mean validation score: -16923.819 (std: 3881.782)\n",
      "Parameters: {'alpha': 56.29956645552881}\n",
      "\n"
     ]
    }
   ],
   "source": [
    "report(grid_search.cv_results_,6)"
   ]
  },
  {
   "cell_type": "code",
   "execution_count": 102,
   "metadata": {},
   "outputs": [],
   "source": [
    "p_test = grid_search.predict(x_test)"
   ]
  },
  {
   "cell_type": "markdown",
   "metadata": {},
   "source": [
    "### Performance Measure"
   ]
  },
  {
   "cell_type": "code",
   "execution_count": 103,
   "metadata": {},
   "outputs": [
    {
     "name": "stdout",
     "output_type": "stream",
     "text": [
      "Ridge_mean_absolute_error : 16886.68047818925\n"
     ]
    }
   ],
   "source": [
    "from sklearn.metrics import mean_absolute_error\n",
    "print(\"Ridge_mean_absolute_error :\",mean_absolute_error(y_test,p_test))"
   ]
  },
  {
   "cell_type": "code",
   "execution_count": 104,
   "metadata": {
    "scrolled": true
   },
   "outputs": [
    {
     "name": "stdout",
     "output_type": "stream",
     "text": [
      "Ridge_Root_mean_square_error :  31357.3168952762\n"
     ]
    }
   ],
   "source": [
    "residual = p_test - y_test\n",
    "rmse = np.sqrt(np.dot(residual,residual)/len(p_test))\n",
    "print(\"Ridge_Root_mean_square_error : \",rmse)"
   ]
  },
  {
   "cell_type": "code",
   "execution_count": 105,
   "metadata": {},
   "outputs": [
    {
     "name": "stdout",
     "output_type": "stream",
     "text": [
      "Ridge_R-Square of the model :  0.8515188878367999\n"
     ]
    }
   ],
   "source": [
    "r_square = r2_score(y_test,p_test)\n",
    "print(\"Ridge_R-Square of the model : \",r_square)"
   ]
  },
  {
   "cell_type": "code",
   "execution_count": 106,
   "metadata": {},
   "outputs": [
    {
     "data": {
      "text/plain": [
       "GridSearchCV(cv=10, error_score='raise',\n",
       "       estimator=Lasso(alpha=1.0, copy_X=True, fit_intercept=True, max_iter=1000,\n",
       "   normalize=False, positive=False, precompute=False, random_state=None,\n",
       "   selection='cyclic', tol=0.001, warm_start=False),\n",
       "       fit_params=None, iid=True, n_jobs=1,\n",
       "       param_grid={'alpha': array([50.11872, 50.3524 , ..., 79.06418, 79.43282])},\n",
       "       pre_dispatch='2*n_jobs', refit=True, return_train_score=True,\n",
       "       scoring='neg_mean_absolute_error', verbose=0)"
      ]
     },
     "execution_count": 106,
     "metadata": {},
     "output_type": "execute_result"
    }
   ],
   "source": [
    "# Now let us build the model on entire training data\n",
    "x_train = hp_train.drop(\"SalePrice\",axis = 1)\n",
    "y_train = hp_train[\"SalePrice\"]\n",
    "\n",
    "grid_search.fit(x_train,y_train)"
   ]
  },
  {
   "cell_type": "code",
   "execution_count": 110,
   "metadata": {},
   "outputs": [
    {
     "name": "stdout",
     "output_type": "stream",
     "text": [
      "Model with rank: 1\n",
      "Mean validation score: -16396.962 (std: 2354.428)\n",
      "Parameters: {'alpha': 79.43282347242814}\n",
      "\n",
      "Model with rank: 2\n",
      "Mean validation score: -16397.752 (std: 2354.782)\n",
      "Parameters: {'alpha': 79.06418489598569}\n",
      "\n",
      "Model with rank: 3\n",
      "Mean validation score: -16398.610 (std: 2355.133)\n",
      "Parameters: {'alpha': 78.69725712867857}\n",
      "\n",
      "Model with rank: 4\n",
      "Mean validation score: -16399.516 (std: 2355.464)\n",
      "Parameters: {'alpha': 78.3320322308388}\n",
      "\n",
      "Model with rank: 5\n",
      "Mean validation score: -16400.267 (std: 2355.767)\n",
      "Parameters: {'alpha': 77.96850229964552}\n",
      "\n"
     ]
    }
   ],
   "source": [
    "report(grid_search.cv_results_,5)"
   ]
  },
  {
   "cell_type": "code",
   "execution_count": 108,
   "metadata": {},
   "outputs": [
    {
     "data": {
      "text/plain": [
       "(1459, 1)"
      ]
     },
     "execution_count": 108,
     "metadata": {},
     "output_type": "execute_result"
    }
   ],
   "source": [
    "p_test = grid_search.predict(hp_test)\n",
    "p_test = pd.DataFrame(p_test)\n",
    "p_test.shape"
   ]
  },
  {
   "cell_type": "code",
   "execution_count": 109,
   "metadata": {},
   "outputs": [],
   "source": [
    "p_test.to_csv(\"Lasso_Linear_regression.csv\",index= False)"
   ]
  },
  {
   "cell_type": "markdown",
   "metadata": {},
   "source": [
    "# Random Forest\n"
   ]
  },
  {
   "cell_type": "code",
   "execution_count": 111,
   "metadata": {
    "scrolled": true
   },
   "outputs": [],
   "source": [
    "# To observe the tentative performance lets first work over entire training data,by splitting them into two parts\n",
    "\n",
    "from sklearn.cross_validation import  train_test_split\n",
    "hp_train_train,hp_train_test = train_test_split(hp_train,test_size = 0.2,random_state = 2)"
   ]
  },
  {
   "cell_type": "code",
   "execution_count": 128,
   "metadata": {},
   "outputs": [],
   "source": [
    "# Separating the predictors and response\n",
    "\n",
    "x_train = hp_train_train.drop(\"SalePrice\",axis = 1)\n",
    "y_train = hp_train_train['SalePrice']\n",
    "\n",
    "x_test = hp_train_test.drop(\"SalePrice\",axis = 1)\n",
    "y_test = hp_train_test['SalePrice']"
   ]
  },
  {
   "cell_type": "code",
   "execution_count": 139,
   "metadata": {},
   "outputs": [],
   "source": [
    "from sklearn.ensemble import RandomForestRegressor\n",
    "params = {'max_depth':[80,100],\n",
    "          'min_samples_leaf':[1],\n",
    "          'min_samples_split':[4],\n",
    "          'max_features' : [150],\n",
    "          'n_estimators' : [500,700],\n",
    "          'bootstrap' : [True]}"
   ]
  },
  {
   "cell_type": "code",
   "execution_count": 140,
   "metadata": {},
   "outputs": [],
   "source": [
    "rfr = RandomForestRegressor()"
   ]
  },
  {
   "cell_type": "code",
   "execution_count": 141,
   "metadata": {},
   "outputs": [],
   "source": [
    "from sklearn.model_selection import RandomizedSearchCV\n",
    "random_search=RandomizedSearchCV(rfr,param_distributions= params,n_iter=4,scoring='neg_mean_absolute_error',cv = 5,n_jobs = -1,\n",
    "                                verbose = 2)"
   ]
  },
  {
   "cell_type": "code",
   "execution_count": 142,
   "metadata": {},
   "outputs": [
    {
     "name": "stdout",
     "output_type": "stream",
     "text": [
      "Fitting 5 folds for each of 4 candidates, totalling 20 fits\n"
     ]
    },
    {
     "name": "stderr",
     "output_type": "stream",
     "text": [
      "[Parallel(n_jobs=-1)]: Done  20 out of  20 | elapsed:  3.1min finished\n"
     ]
    },
    {
     "name": "stdout",
     "output_type": "stream",
     "text": [
      "214.3667073249817\n"
     ]
    }
   ],
   "source": [
    "# Choosing best estimator\n",
    "import time\n",
    "start = time.time()\n",
    "\n",
    "random_search.fit(x_train,y_train)\n",
    "\n",
    "end = time.time()\n",
    "print(end - start)"
   ]
  },
  {
   "cell_type": "code",
   "execution_count": 143,
   "metadata": {},
   "outputs": [
    {
     "data": {
      "text/plain": [
       "RandomForestRegressor(bootstrap=True, criterion='mse', max_depth=80,\n",
       "           max_features=150, max_leaf_nodes=None,\n",
       "           min_impurity_decrease=0.0, min_impurity_split=None,\n",
       "           min_samples_leaf=1, min_samples_split=4,\n",
       "           min_weight_fraction_leaf=0.0, n_estimators=700, n_jobs=1,\n",
       "           oob_score=False, random_state=None, verbose=0, warm_start=False)"
      ]
     },
     "execution_count": 143,
     "metadata": {},
     "output_type": "execute_result"
    }
   ],
   "source": [
    "random_search.best_estimator_"
   ]
  },
  {
   "cell_type": "code",
   "execution_count": 144,
   "metadata": {},
   "outputs": [
    {
     "name": "stdout",
     "output_type": "stream",
     "text": [
      "Model with rank: 1\n",
      "Mean validation score: -17064.613 (std: 1873.682)\n",
      "Parameters: {'n_estimators': 700, 'min_samples_split': 4, 'min_samples_leaf': 1, 'max_features': 150, 'max_depth': 80, 'bootstrap': True}\n",
      "\n",
      "Model with rank: 2\n",
      "Mean validation score: -17134.173 (std: 1841.149)\n",
      "Parameters: {'n_estimators': 500, 'min_samples_split': 4, 'min_samples_leaf': 1, 'max_features': 150, 'max_depth': 100, 'bootstrap': True}\n",
      "\n",
      "Model with rank: 3\n",
      "Mean validation score: -17134.353 (std: 1872.093)\n",
      "Parameters: {'n_estimators': 700, 'min_samples_split': 4, 'min_samples_leaf': 1, 'max_features': 150, 'max_depth': 100, 'bootstrap': True}\n",
      "\n",
      "Model with rank: 4\n",
      "Mean validation score: -17146.813 (std: 1805.866)\n",
      "Parameters: {'n_estimators': 500, 'min_samples_split': 4, 'min_samples_leaf': 1, 'max_features': 150, 'max_depth': 80, 'bootstrap': True}\n",
      "\n"
     ]
    }
   ],
   "source": [
    "report(random_search.cv_results_,5)"
   ]
  },
  {
   "cell_type": "code",
   "execution_count": 145,
   "metadata": {},
   "outputs": [],
   "source": [
    "p_test = random_search.predict(x_test)"
   ]
  },
  {
   "cell_type": "markdown",
   "metadata": {},
   "source": [
    "### Performance Measure"
   ]
  },
  {
   "cell_type": "code",
   "execution_count": 146,
   "metadata": {},
   "outputs": [
    {
     "name": "stdout",
     "output_type": "stream",
     "text": [
      "Ridge_mean_absolute_error : 17345.278083793804\n"
     ]
    }
   ],
   "source": [
    "from sklearn.metrics import mean_absolute_error\n",
    "print(\"Ridge_mean_absolute_error :\",mean_absolute_error(y_test,p_test))"
   ]
  },
  {
   "cell_type": "code",
   "execution_count": 147,
   "metadata": {
    "scrolled": true
   },
   "outputs": [
    {
     "name": "stdout",
     "output_type": "stream",
     "text": [
      "Ridge_Root_mean_square_error :  25713.77629281505\n"
     ]
    }
   ],
   "source": [
    "residual = p_test - y_test\n",
    "rmse = np.sqrt(np.dot(residual,residual)/len(p_test))\n",
    "print(\"Ridge_Root_mean_square_error : \",rmse)"
   ]
  },
  {
   "cell_type": "code",
   "execution_count": 148,
   "metadata": {},
   "outputs": [
    {
     "name": "stdout",
     "output_type": "stream",
     "text": [
      "Ridge_R-Square of the model :  0.9001552705622067\n"
     ]
    }
   ],
   "source": [
    "r_square = r2_score(y_test,p_test)\n",
    "print(\"Ridge_R-Square of the model : \",r_square)"
   ]
  },
  {
   "cell_type": "code",
   "execution_count": 149,
   "metadata": {},
   "outputs": [
    {
     "name": "stdout",
     "output_type": "stream",
     "text": [
      "Fitting 5 folds for each of 4 candidates, totalling 20 fits\n"
     ]
    },
    {
     "name": "stderr",
     "output_type": "stream",
     "text": [
      "[Parallel(n_jobs=-1)]: Done  20 out of  20 | elapsed:  3.8min finished\n"
     ]
    },
    {
     "data": {
      "text/plain": [
       "RandomizedSearchCV(cv=5, error_score='raise',\n",
       "          estimator=RandomForestRegressor(bootstrap=True, criterion='mse', max_depth=None,\n",
       "           max_features='auto', max_leaf_nodes=None,\n",
       "           min_impurity_decrease=0.0, min_impurity_split=None,\n",
       "           min_samples_leaf=1, min_samples_split=2,\n",
       "           min_weight_fraction_leaf=0.0, n_estimators=10, n_jobs=1,\n",
       "           oob_score=False, random_state=None, verbose=0, warm_start=False),\n",
       "          fit_params=None, iid=True, n_iter=4, n_jobs=-1,\n",
       "          param_distributions={'max_depth': [80, 100], 'min_samples_leaf': [1], 'min_samples_split': [4], 'max_features': [150], 'n_estimators': [500, 700], 'bootstrap': [True]},\n",
       "          pre_dispatch='2*n_jobs', random_state=None, refit=True,\n",
       "          return_train_score='warn', scoring='neg_mean_absolute_error',\n",
       "          verbose=2)"
      ]
     },
     "execution_count": 149,
     "metadata": {},
     "output_type": "execute_result"
    }
   ],
   "source": [
    "# Now let us build the model on entire training data\n",
    "x_train = hp_train.drop(\"SalePrice\",axis = 1)\n",
    "y_train = hp_train[\"SalePrice\"]\n",
    "\n",
    "random_search.fit(x_train,y_train)"
   ]
  },
  {
   "cell_type": "code",
   "execution_count": 150,
   "metadata": {},
   "outputs": [
    {
     "name": "stdout",
     "output_type": "stream",
     "text": [
      "Model with rank: 1\n",
      "Mean validation score: -16675.526 (std: 770.617)\n",
      "Parameters: {'n_estimators': 500, 'min_samples_split': 4, 'min_samples_leaf': 1, 'max_features': 150, 'max_depth': 100, 'bootstrap': True}\n",
      "\n",
      "Model with rank: 2\n",
      "Mean validation score: -16703.179 (std: 727.061)\n",
      "Parameters: {'n_estimators': 500, 'min_samples_split': 4, 'min_samples_leaf': 1, 'max_features': 150, 'max_depth': 80, 'bootstrap': True}\n",
      "\n",
      "Model with rank: 3\n",
      "Mean validation score: -16714.657 (std: 736.156)\n",
      "Parameters: {'n_estimators': 700, 'min_samples_split': 4, 'min_samples_leaf': 1, 'max_features': 150, 'max_depth': 80, 'bootstrap': True}\n",
      "\n",
      "Model with rank: 4\n",
      "Mean validation score: -16723.405 (std: 806.388)\n",
      "Parameters: {'n_estimators': 700, 'min_samples_split': 4, 'min_samples_leaf': 1, 'max_features': 150, 'max_depth': 100, 'bootstrap': True}\n",
      "\n"
     ]
    }
   ],
   "source": [
    "report(random_search.cv_results_,5)"
   ]
  },
  {
   "cell_type": "code",
   "execution_count": 151,
   "metadata": {},
   "outputs": [
    {
     "data": {
      "text/plain": [
       "(1459, 1)"
      ]
     },
     "execution_count": 151,
     "metadata": {},
     "output_type": "execute_result"
    }
   ],
   "source": [
    "p_test = random_search.predict(hp_test)\n",
    "p_test = pd.DataFrame(p_test)\n",
    "p_test.shape"
   ]
  },
  {
   "cell_type": "code",
   "execution_count": 152,
   "metadata": {},
   "outputs": [],
   "source": [
    "p_test.to_csv(\"Random_forest.csv\",index= False)"
   ]
  },
  {
   "cell_type": "markdown",
   "metadata": {},
   "source": [
    "# Gradient Boosting"
   ]
  },
  {
   "cell_type": "code",
   "execution_count": 196,
   "metadata": {
    "scrolled": true
   },
   "outputs": [],
   "source": [
    "# To observe the tentative performance lets first work over entire training data,by splitting them into two parts\n",
    "\n",
    "from sklearn.cross_validation import  train_test_split\n",
    "hp_train_train,hp_train_test = train_test_split(hp_train,test_size = 0.2,random_state = 2)"
   ]
  },
  {
   "cell_type": "code",
   "execution_count": 197,
   "metadata": {},
   "outputs": [],
   "source": [
    "# Separating the predictors and response\n",
    "\n",
    "x_train = hp_train_train.drop(\"SalePrice\",axis = 1)\n",
    "y_train = hp_train_train['SalePrice']\n",
    "\n",
    "x_test = hp_train_test.drop(\"SalePrice\",axis = 1)\n",
    "y_test = hp_train_test['SalePrice']"
   ]
  },
  {
   "cell_type": "code",
   "execution_count": 198,
   "metadata": {},
   "outputs": [],
   "source": [
    "from sklearn.ensemble import GradientBoostingRegressor\n",
    "from sklearn.model_selection import RandomizedSearchCV\n",
    "from sklearn.metrics import r2_score,mean_absolute_error"
   ]
  },
  {
   "cell_type": "code",
   "execution_count": 199,
   "metadata": {},
   "outputs": [],
   "source": [
    "gbm_params = {'n_estimators' : [300],\n",
    "             'learning_rate' : [0.1],\n",
    "             'max_depth' : [8],\n",
    "             'subsample' : [0.9,1],\n",
    "             'max_features' : [170],\n",
    "             'min_samples_split' : [800],\n",
    "             'min_samples_leaf':[1,2],\n",
    "             'loss' :['huber'],\n",
    "             'alpha': np.linspace(0.8,0.9,100)}"
   ]
  },
  {
   "cell_type": "code",
   "execution_count": 200,
   "metadata": {},
   "outputs": [],
   "source": [
    "gbm = GradientBoostingRegressor()"
   ]
  },
  {
   "cell_type": "code",
   "execution_count": 202,
   "metadata": {},
   "outputs": [],
   "source": [
    "random_search = RandomizedSearchCV(gbm,param_distributions=gbm_params,n_jobs = -1,verbose = 2,scoring = 'neg_mean_absolute_error',\n",
    "                                  n_iter = 6,cv = 15)"
   ]
  },
  {
   "cell_type": "code",
   "execution_count": 203,
   "metadata": {},
   "outputs": [
    {
     "name": "stdout",
     "output_type": "stream",
     "text": [
      "Fitting 15 folds for each of 6 candidates, totalling 90 fits\n"
     ]
    },
    {
     "name": "stderr",
     "output_type": "stream",
     "text": [
      "[Parallel(n_jobs=-1)]: Done  33 tasks      | elapsed:  1.1min\n",
      "[Parallel(n_jobs=-1)]: Done  90 out of  90 | elapsed:  2.8min finished\n"
     ]
    },
    {
     "name": "stdout",
     "output_type": "stream",
     "text": [
      "174.61040449142456\n"
     ]
    }
   ],
   "source": [
    "import time\n",
    "start = time.time()\n",
    "random_search.fit(x_train,y_train)\n",
    "end = time.time()\n",
    "print(end-start)"
   ]
  },
  {
   "cell_type": "code",
   "execution_count": 204,
   "metadata": {},
   "outputs": [
    {
     "data": {
      "text/plain": [
       "GradientBoostingRegressor(alpha=0.9, criterion='friedman_mse', init=None,\n",
       "             learning_rate=0.1, loss='huber', max_depth=8,\n",
       "             max_features=170, max_leaf_nodes=None,\n",
       "             min_impurity_decrease=0.0, min_impurity_split=None,\n",
       "             min_samples_leaf=1, min_samples_split=800,\n",
       "             min_weight_fraction_leaf=0.0, n_estimators=300,\n",
       "             presort='auto', random_state=None, subsample=1, verbose=0,\n",
       "             warm_start=False)"
      ]
     },
     "execution_count": 204,
     "metadata": {},
     "output_type": "execute_result"
    }
   ],
   "source": [
    "random_search.best_estimator_"
   ]
  },
  {
   "cell_type": "code",
   "execution_count": 205,
   "metadata": {},
   "outputs": [
    {
     "name": "stdout",
     "output_type": "stream",
     "text": [
      "Model with rank: 1\n",
      "Mean validation score: -16021.031 (std: 4268.353)\n",
      "Parameters: {'subsample': 1, 'n_estimators': 300, 'min_samples_split': 800, 'min_samples_leaf': 1, 'max_features': 170, 'max_depth': 8, 'loss': 'huber', 'learning_rate': 0.1, 'alpha': 0.9}\n",
      "\n",
      "Model with rank: 2\n",
      "Mean validation score: -16037.109 (std: 4445.397)\n",
      "Parameters: {'subsample': 1, 'n_estimators': 300, 'min_samples_split': 800, 'min_samples_leaf': 1, 'max_features': 170, 'max_depth': 8, 'loss': 'huber', 'learning_rate': 0.1, 'alpha': 0.8161616161616162}\n",
      "\n",
      "Model with rank: 3\n",
      "Mean validation score: -16100.034 (std: 4169.735)\n",
      "Parameters: {'subsample': 0.9, 'n_estimators': 300, 'min_samples_split': 800, 'min_samples_leaf': 1, 'max_features': 170, 'max_depth': 8, 'loss': 'huber', 'learning_rate': 0.1, 'alpha': 0.8090909090909091}\n",
      "\n",
      "Model with rank: 4\n",
      "Mean validation score: -16142.785 (std: 4352.916)\n",
      "Parameters: {'subsample': 1, 'n_estimators': 300, 'min_samples_split': 800, 'min_samples_leaf': 2, 'max_features': 170, 'max_depth': 8, 'loss': 'huber', 'learning_rate': 0.1, 'alpha': 0.8020202020202021}\n",
      "\n",
      "Model with rank: 5\n",
      "Mean validation score: -16162.257 (std: 4499.620)\n",
      "Parameters: {'subsample': 1, 'n_estimators': 300, 'min_samples_split': 800, 'min_samples_leaf': 1, 'max_features': 170, 'max_depth': 8, 'loss': 'huber', 'learning_rate': 0.1, 'alpha': 0.8191919191919192}\n",
      "\n",
      "Model with rank: 6\n",
      "Mean validation score: -16183.542 (std: 4355.931)\n",
      "Parameters: {'subsample': 0.9, 'n_estimators': 300, 'min_samples_split': 800, 'min_samples_leaf': 1, 'max_features': 170, 'max_depth': 8, 'loss': 'huber', 'learning_rate': 0.1, 'alpha': 0.8050505050505051}\n",
      "\n"
     ]
    }
   ],
   "source": [
    "def report(results, n_top=3):\n",
    "    for i in range(1, n_top + 1):\n",
    "        candidates = np.flatnonzero(results['rank_test_score'] == i)\n",
    "        for candidate in candidates:\n",
    "            print(\"Model with rank: {0}\".format(i))\n",
    "            print(\"Mean validation score: {0:.3f} (std: {1:.3f})\".format(\n",
    "                  results['mean_test_score'][candidate],\n",
    "                  results['std_test_score'][candidate]))\n",
    "            print(\"Parameters: {0}\".format(results['params'][candidate]))\n",
    "            print(\"\")\n",
    "            \n",
    "report(random_search.cv_results_,6)"
   ]
  },
  {
   "cell_type": "code",
   "execution_count": 206,
   "metadata": {},
   "outputs": [],
   "source": [
    "p_test = random_search.predict(x_test)"
   ]
  },
  {
   "cell_type": "markdown",
   "metadata": {},
   "source": [
    "### Performance Measure"
   ]
  },
  {
   "cell_type": "code",
   "execution_count": 207,
   "metadata": {},
   "outputs": [
    {
     "name": "stdout",
     "output_type": "stream",
     "text": [
      "Ridge_mean_absolute_error : 16731.898453529597\n"
     ]
    }
   ],
   "source": [
    "from sklearn.metrics import mean_absolute_error\n",
    "print(\"Ridge_mean_absolute_error :\",mean_absolute_error(y_test,p_test))"
   ]
  },
  {
   "cell_type": "code",
   "execution_count": 208,
   "metadata": {
    "scrolled": true
   },
   "outputs": [
    {
     "name": "stdout",
     "output_type": "stream",
     "text": [
      "Ridge_Root_mean_square_error :  26194.407236436626\n"
     ]
    }
   ],
   "source": [
    "residual = p_test - y_test\n",
    "rmse = np.sqrt(np.dot(residual,residual)/len(p_test))\n",
    "print(\"Ridge_Root_mean_square_error : \",rmse)"
   ]
  },
  {
   "cell_type": "code",
   "execution_count": 209,
   "metadata": {},
   "outputs": [
    {
     "name": "stdout",
     "output_type": "stream",
     "text": [
      "Ridge_R-Square of the model :  0.8963878770878164\n"
     ]
    }
   ],
   "source": [
    "r_square = r2_score(y_test,p_test)\n",
    "print(\"Ridge_R-Square of the model : \",r_square)"
   ]
  },
  {
   "cell_type": "code",
   "execution_count": 210,
   "metadata": {},
   "outputs": [
    {
     "name": "stdout",
     "output_type": "stream",
     "text": [
      "Fitting 15 folds for each of 6 candidates, totalling 90 fits\n"
     ]
    },
    {
     "name": "stderr",
     "output_type": "stream",
     "text": [
      "[Parallel(n_jobs=-1)]: Done  33 tasks      | elapsed:  1.7min\n",
      "[Parallel(n_jobs=-1)]: Done  90 out of  90 | elapsed:  4.3min finished\n"
     ]
    },
    {
     "data": {
      "text/plain": [
       "RandomizedSearchCV(cv=15, error_score='raise',\n",
       "          estimator=GradientBoostingRegressor(alpha=0.9, criterion='friedman_mse', init=None,\n",
       "             learning_rate=0.1, loss='ls', max_depth=3, max_features=None,\n",
       "             max_leaf_nodes=None, min_impurity_decrease=0.0,\n",
       "             min_impurity_split=None, min_samples_leaf=1,\n",
       "             min_samples_split=2, min_weight_fraction_leaf=0.0,\n",
       "             n_estimators=100, presort='auto', random_state=None,\n",
       "             subsample=1.0, verbose=0, warm_start=False),\n",
       "          fit_params=None, iid=True, n_iter=6, n_jobs=-1,\n",
       "          param_distributions={'n_estimators': [300], 'learning_rate': [0.1], 'max_depth': [8], 'subsample': [0.9, 1], 'max_features': [170], 'min_samples_split': [800], 'min_samples_leaf': [1, 2], 'loss': ['huber'], 'alpha': array([0.8    , 0.80101, ..., 0.89899, 0.9    ])},\n",
       "          pre_dispatch='2*n_jobs', random_state=None, refit=True,\n",
       "          return_train_score='warn', scoring='neg_mean_absolute_error',\n",
       "          verbose=2)"
      ]
     },
     "execution_count": 210,
     "metadata": {},
     "output_type": "execute_result"
    }
   ],
   "source": [
    "# Now let us build the model on entire training data\n",
    "x_train = hp_train.drop(\"SalePrice\",axis = 1)\n",
    "y_train = hp_train[\"SalePrice\"]\n",
    "\n",
    "random_search.fit(x_train,y_train)"
   ]
  },
  {
   "cell_type": "code",
   "execution_count": 211,
   "metadata": {},
   "outputs": [
    {
     "name": "stdout",
     "output_type": "stream",
     "text": [
      "Model with rank: 1\n",
      "Mean validation score: -15227.561 (std: 1929.870)\n",
      "Parameters: {'subsample': 1, 'n_estimators': 300, 'min_samples_split': 800, 'min_samples_leaf': 1, 'max_features': 170, 'max_depth': 8, 'loss': 'huber', 'learning_rate': 0.1, 'alpha': 0.8080808080808082}\n",
      "\n",
      "Model with rank: 2\n",
      "Mean validation score: -15293.887 (std: 2156.340)\n",
      "Parameters: {'subsample': 1, 'n_estimators': 300, 'min_samples_split': 800, 'min_samples_leaf': 1, 'max_features': 170, 'max_depth': 8, 'loss': 'huber', 'learning_rate': 0.1, 'alpha': 0.8838383838383839}\n",
      "\n",
      "Model with rank: 3\n",
      "Mean validation score: -15352.311 (std: 2228.725)\n",
      "Parameters: {'subsample': 1, 'n_estimators': 300, 'min_samples_split': 800, 'min_samples_leaf': 2, 'max_features': 170, 'max_depth': 8, 'loss': 'huber', 'learning_rate': 0.1, 'alpha': 0.8505050505050505}\n",
      "\n",
      "Model with rank: 4\n",
      "Mean validation score: -15420.084 (std: 2196.543)\n",
      "Parameters: {'subsample': 1, 'n_estimators': 300, 'min_samples_split': 800, 'min_samples_leaf': 2, 'max_features': 170, 'max_depth': 8, 'loss': 'huber', 'learning_rate': 0.1, 'alpha': 0.8474747474747475}\n",
      "\n",
      "Model with rank: 5\n",
      "Mean validation score: -15457.822 (std: 2357.651)\n",
      "Parameters: {'subsample': 0.9, 'n_estimators': 300, 'min_samples_split': 800, 'min_samples_leaf': 2, 'max_features': 170, 'max_depth': 8, 'loss': 'huber', 'learning_rate': 0.1, 'alpha': 0.8666666666666667}\n",
      "\n"
     ]
    }
   ],
   "source": [
    "report(random_search.cv_results_,5)"
   ]
  },
  {
   "cell_type": "code",
   "execution_count": 212,
   "metadata": {},
   "outputs": [
    {
     "data": {
      "text/plain": [
       "(1459, 1)"
      ]
     },
     "execution_count": 212,
     "metadata": {},
     "output_type": "execute_result"
    }
   ],
   "source": [
    "p_test = random_search.predict(hp_test)\n",
    "p_test = pd.DataFrame(p_test)\n",
    "p_test.shape"
   ]
  },
  {
   "cell_type": "code",
   "execution_count": 213,
   "metadata": {},
   "outputs": [],
   "source": [
    "p_test.to_csv(\"Gradient_Boosting.csv\",index= False)"
   ]
  },
  {
   "cell_type": "code",
   "execution_count": null,
   "metadata": {},
   "outputs": [],
   "source": []
  }
 ],
 "metadata": {
  "kernelspec": {
   "display_name": "Python 3",
   "language": "python",
   "name": "python3"
  },
  "language_info": {
   "codemirror_mode": {
    "name": "ipython",
    "version": 3
   },
   "file_extension": ".py",
   "mimetype": "text/x-python",
   "name": "python",
   "nbconvert_exporter": "python",
   "pygments_lexer": "ipython3",
   "version": "3.6.4"
  }
 },
 "nbformat": 4,
 "nbformat_minor": 2
}
